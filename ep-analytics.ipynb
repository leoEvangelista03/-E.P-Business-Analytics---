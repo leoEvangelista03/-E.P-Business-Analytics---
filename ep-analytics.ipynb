{
 "cells": [
  {
   "cell_type": "markdown",
   "id": "24d4475d",
   "metadata": {
    "id": "24d4475d"
   },
   "source": [
    "# E.P | Business Analytics\n",
    "----"
   ]
  },
  {
   "cell_type": "markdown",
   "id": "6ef15e9d",
   "metadata": {
    "id": "6ef15e9d"
   },
   "source": [
    "## Loading Libraries"
   ]
  },
  {
   "cell_type": "code",
   "execution_count": 1,
   "id": "6d8e03e5",
   "metadata": {
    "ExecuteTime": {
     "end_time": "2022-06-20T00:18:22.436904Z",
     "start_time": "2022-06-20T00:18:20.796381Z"
    },
    "executionInfo": {
     "elapsed": 580,
     "status": "ok",
     "timestamp": 1655176793749,
     "user": {
      "displayName": "Leonardo Evangelista Pereira",
      "userId": "15130530526199340986"
     },
     "user_tz": 180
    },
    "id": "6d8e03e5"
   },
   "outputs": [],
   "source": [
    "import numpy as np\n",
    "import pandas as pd\n",
    "import matplotlib.pyplot as plt\n",
    "import seaborn as sns\n",
    "import datetime as dt\n",
    "from datetime import timedelta\n",
    "from datetime import datetime\n",
    "from numpy import median\n",
    "import warnings\n",
    "warnings.filterwarnings('ignore')"
   ]
  },
  {
   "cell_type": "markdown",
   "id": "c4e6dd98",
   "metadata": {
    "id": "c4e6dd98"
   },
   "source": [
    "## Loading datasets"
   ]
  },
  {
   "cell_type": "code",
   "execution_count": 2,
   "id": "fa63b1b2",
   "metadata": {
    "ExecuteTime": {
     "end_time": "2022-06-20T00:18:22.447978Z",
     "start_time": "2022-06-20T00:18:22.438087Z"
    },
    "executionInfo": {
     "elapsed": 8,
     "status": "ok",
     "timestamp": 1655176793749,
     "user": {
      "displayName": "Leonardo Evangelista Pereira",
      "userId": "15130530526199340986"
     },
     "user_tz": 180
    },
    "id": "fa63b1b2"
   },
   "outputs": [],
   "source": [
    "country = pd.read_csv('data/country.csv')\n",
    "country.drop(columns = 'date_created', axis = 1, inplace = True)"
   ]
  },
  {
   "cell_type": "code",
   "execution_count": 3,
   "id": "c0bf6e4a",
   "metadata": {
    "ExecuteTime": {
     "end_time": "2022-06-20T00:18:22.456970Z",
     "start_time": "2022-06-20T00:18:22.448807Z"
    },
    "executionInfo": {
     "elapsed": 6,
     "status": "ok",
     "timestamp": 1655176793749,
     "user": {
      "displayName": "Leonardo Evangelista Pereira",
      "userId": "15130530526199340986"
     },
     "user_tz": 180
    },
    "id": "c0bf6e4a"
   },
   "outputs": [],
   "source": [
    "investment = pd.read_csv('data/investment.csv')"
   ]
  },
  {
   "cell_type": "code",
   "execution_count": 4,
   "id": "011d3927",
   "metadata": {
    "ExecuteTime": {
     "end_time": "2022-06-20T00:18:22.482920Z",
     "start_time": "2022-06-20T00:18:22.458350Z"
    },
    "executionInfo": {
     "elapsed": 7,
     "status": "ok",
     "timestamp": 1655176793750,
     "user": {
      "displayName": "Leonardo Evangelista Pereira",
      "userId": "15130530526199340986"
     },
     "user_tz": 180
    },
    "id": "011d3927"
   },
   "outputs": [],
   "source": [
    "investor = pd.read_csv('data/investor.csv')"
   ]
  },
  {
   "cell_type": "code",
   "execution_count": 5,
   "id": "08ca563b",
   "metadata": {
    "ExecuteTime": {
     "end_time": "2022-06-20T00:18:22.493369Z",
     "start_time": "2022-06-20T00:18:22.483825Z"
    },
    "executionInfo": {
     "elapsed": 7,
     "status": "ok",
     "timestamp": 1655176793750,
     "user": {
      "displayName": "Leonardo Evangelista Pereira",
      "userId": "15130530526199340986"
     },
     "user_tz": 180
    },
    "id": "08ca563b"
   },
   "outputs": [],
   "source": [
    "investor_work = pd.read_csv('data/investor_work.csv')"
   ]
  },
  {
   "cell_type": "code",
   "execution_count": 6,
   "id": "9064c9e8",
   "metadata": {
    "ExecuteTime": {
     "end_time": "2022-06-20T00:18:22.503842Z",
     "start_time": "2022-06-20T00:18:22.494278Z"
    },
    "executionInfo": {
     "elapsed": 6,
     "status": "ok",
     "timestamp": 1655176793750,
     "user": {
      "displayName": "Leonardo Evangelista Pereira",
      "userId": "15130530526199340986"
     },
     "user_tz": 180
    },
    "id": "9064c9e8"
   },
   "outputs": [],
   "source": [
    "investor_company = pd.read_csv('data/investor_company.csv')"
   ]
  },
  {
   "cell_type": "code",
   "execution_count": 7,
   "id": "aa02e072",
   "metadata": {
    "ExecuteTime": {
     "end_time": "2022-06-20T00:18:22.514450Z",
     "start_time": "2022-06-20T00:18:22.504820Z"
    },
    "executionInfo": {
     "elapsed": 6,
     "status": "ok",
     "timestamp": 1655176793750,
     "user": {
      "displayName": "Leonardo Evangelista Pereira",
      "userId": "15130530526199340986"
     },
     "user_tz": 180
    },
    "id": "aa02e072"
   },
   "outputs": [],
   "source": [
    "investor_address = pd.read_csv('data/investor_address.csv')"
   ]
  },
  {
   "cell_type": "code",
   "execution_count": 8,
   "id": "d830a1d1",
   "metadata": {
    "ExecuteTime": {
     "end_time": "2022-06-20T00:18:22.519068Z",
     "start_time": "2022-06-20T00:18:22.515372Z"
    },
    "executionInfo": {
     "elapsed": 6,
     "status": "ok",
     "timestamp": 1655176793750,
     "user": {
      "displayName": "Leonardo Evangelista Pereira",
      "userId": "15130530526199340986"
     },
     "user_tz": 180
    },
    "id": "d830a1d1"
   },
   "outputs": [],
   "source": [
    "project = pd.read_csv('data/project.csv')"
   ]
  },
  {
   "cell_type": "code",
   "execution_count": 9,
   "id": "89a568ad",
   "metadata": {
    "ExecuteTime": {
     "end_time": "2022-06-20T00:18:22.523271Z",
     "start_time": "2022-06-20T00:18:22.519955Z"
    },
    "executionInfo": {
     "elapsed": 5,
     "status": "ok",
     "timestamp": 1655176793750,
     "user": {
      "displayName": "Leonardo Evangelista Pereira",
      "userId": "15130530526199340986"
     },
     "user_tz": 180
    },
    "id": "89a568ad"
   },
   "outputs": [],
   "source": [
    "project_category = pd.read_csv('data/project_category.csv')"
   ]
  },
  {
   "cell_type": "markdown",
   "id": "f8dc13f4",
   "metadata": {
    "id": "f8dc13f4"
   },
   "source": [
    "## Exploratory Data Analysis - Pt. 1"
   ]
  },
  {
   "cell_type": "markdown",
   "id": "413c868e",
   "metadata": {
    "id": "413c868e"
   },
   "source": [
    "### Investment Data"
   ]
  },
  {
   "cell_type": "markdown",
   "id": "73654149",
   "metadata": {
    "id": "73654149"
   },
   "source": [
    "#### Data Head"
   ]
  },
  {
   "cell_type": "code",
   "execution_count": 10,
   "id": "4abb2c9e",
   "metadata": {
    "ExecuteTime": {
     "end_time": "2022-06-20T00:18:22.535507Z",
     "start_time": "2022-06-20T00:18:22.526151Z"
    },
    "colab": {
     "base_uri": "https://localhost:8080/",
     "height": 419
    },
    "executionInfo": {
     "elapsed": 448,
     "status": "ok",
     "timestamp": 1655176794193,
     "user": {
      "displayName": "Leonardo Evangelista Pereira",
      "userId": "15130530526199340986"
     },
     "user_tz": 180
    },
    "id": "4abb2c9e",
    "outputId": "c2bdbacb-8ff5-41d7-dfa3-963d8560ce47",
    "scrolled": false
   },
   "outputs": [
    {
     "data": {
      "text/html": [
       "<div>\n",
       "<style scoped>\n",
       "    .dataframe tbody tr th:only-of-type {\n",
       "        vertical-align: middle;\n",
       "    }\n",
       "\n",
       "    .dataframe tbody tr th {\n",
       "        vertical-align: top;\n",
       "    }\n",
       "\n",
       "    .dataframe thead th {\n",
       "        text-align: right;\n",
       "    }\n",
       "</style>\n",
       "<table border=\"1\" class=\"dataframe\">\n",
       "  <thead>\n",
       "    <tr style=\"text-align: right;\">\n",
       "      <th></th>\n",
       "      <th>id</th>\n",
       "      <th>date_created</th>\n",
       "      <th>anonymous</th>\n",
       "      <th>investor</th>\n",
       "      <th>project</th>\n",
       "      <th>value</th>\n",
       "    </tr>\n",
       "  </thead>\n",
       "  <tbody>\n",
       "    <tr>\n",
       "      <th>0</th>\n",
       "      <td>19</td>\n",
       "      <td>2018-09-03 11:58:17</td>\n",
       "      <td>0</td>\n",
       "      <td>3</td>\n",
       "      <td>1</td>\n",
       "      <td>1000</td>\n",
       "    </tr>\n",
       "    <tr>\n",
       "      <th>1</th>\n",
       "      <td>20</td>\n",
       "      <td>2018-09-03 20:43:34</td>\n",
       "      <td>0</td>\n",
       "      <td>16</td>\n",
       "      <td>1</td>\n",
       "      <td>81000</td>\n",
       "    </tr>\n",
       "    <tr>\n",
       "      <th>2</th>\n",
       "      <td>21</td>\n",
       "      <td>2018-09-03 21:15:45</td>\n",
       "      <td>0</td>\n",
       "      <td>6</td>\n",
       "      <td>1</td>\n",
       "      <td>15000</td>\n",
       "    </tr>\n",
       "    <tr>\n",
       "      <th>3</th>\n",
       "      <td>26</td>\n",
       "      <td>2018-09-06 11:38:37</td>\n",
       "      <td>0</td>\n",
       "      <td>11</td>\n",
       "      <td>1</td>\n",
       "      <td>10000</td>\n",
       "    </tr>\n",
       "    <tr>\n",
       "      <th>4</th>\n",
       "      <td>28</td>\n",
       "      <td>2018-09-06 13:53:35</td>\n",
       "      <td>1</td>\n",
       "      <td>34</td>\n",
       "      <td>1</td>\n",
       "      <td>5000</td>\n",
       "    </tr>\n",
       "    <tr>\n",
       "      <th>...</th>\n",
       "      <td>...</td>\n",
       "      <td>...</td>\n",
       "      <td>...</td>\n",
       "      <td>...</td>\n",
       "      <td>...</td>\n",
       "      <td>...</td>\n",
       "    </tr>\n",
       "    <tr>\n",
       "      <th>9118</th>\n",
       "      <td>12348</td>\n",
       "      <td>2022-06-03 15:43:26</td>\n",
       "      <td>0</td>\n",
       "      <td>15144</td>\n",
       "      <td>86</td>\n",
       "      <td>5000</td>\n",
       "    </tr>\n",
       "    <tr>\n",
       "      <th>9119</th>\n",
       "      <td>12349</td>\n",
       "      <td>2022-06-03 17:10:55</td>\n",
       "      <td>1</td>\n",
       "      <td>25327</td>\n",
       "      <td>86</td>\n",
       "      <td>1000</td>\n",
       "    </tr>\n",
       "    <tr>\n",
       "      <th>9120</th>\n",
       "      <td>12350</td>\n",
       "      <td>2022-06-03 17:12:51</td>\n",
       "      <td>0</td>\n",
       "      <td>25327</td>\n",
       "      <td>83</td>\n",
       "      <td>5500</td>\n",
       "    </tr>\n",
       "    <tr>\n",
       "      <th>9121</th>\n",
       "      <td>12351</td>\n",
       "      <td>2022-06-03 17:57:04</td>\n",
       "      <td>1</td>\n",
       "      <td>8288</td>\n",
       "      <td>86</td>\n",
       "      <td>20000</td>\n",
       "    </tr>\n",
       "    <tr>\n",
       "      <th>9122</th>\n",
       "      <td>12356</td>\n",
       "      <td>2022-06-03 19:16:13</td>\n",
       "      <td>1</td>\n",
       "      <td>3</td>\n",
       "      <td>86</td>\n",
       "      <td>5000</td>\n",
       "    </tr>\n",
       "  </tbody>\n",
       "</table>\n",
       "<p>9123 rows × 6 columns</p>\n",
       "</div>"
      ],
      "text/plain": [
       "         id         date_created  anonymous  investor  project  value\n",
       "0        19  2018-09-03 11:58:17          0         3        1   1000\n",
       "1        20  2018-09-03 20:43:34          0        16        1  81000\n",
       "2        21  2018-09-03 21:15:45          0         6        1  15000\n",
       "3        26  2018-09-06 11:38:37          0        11        1  10000\n",
       "4        28  2018-09-06 13:53:35          1        34        1   5000\n",
       "...     ...                  ...        ...       ...      ...    ...\n",
       "9118  12348  2022-06-03 15:43:26          0     15144       86   5000\n",
       "9119  12349  2022-06-03 17:10:55          1     25327       86   1000\n",
       "9120  12350  2022-06-03 17:12:51          0     25327       83   5500\n",
       "9121  12351  2022-06-03 17:57:04          1      8288       86  20000\n",
       "9122  12356  2022-06-03 19:16:13          1         3       86   5000\n",
       "\n",
       "[9123 rows x 6 columns]"
      ]
     },
     "execution_count": 10,
     "metadata": {},
     "output_type": "execute_result"
    }
   ],
   "source": [
    "investment"
   ]
  },
  {
   "cell_type": "markdown",
   "id": "21420cd1",
   "metadata": {
    "id": "21420cd1"
   },
   "source": [
    "#### Basic Info"
   ]
  },
  {
   "cell_type": "code",
   "execution_count": 11,
   "id": "1f257805",
   "metadata": {
    "ExecuteTime": {
     "end_time": "2022-06-20T00:18:22.547455Z",
     "start_time": "2022-06-20T00:18:22.536308Z"
    },
    "colab": {
     "base_uri": "https://localhost:8080/"
    },
    "executionInfo": {
     "elapsed": 19,
     "status": "ok",
     "timestamp": 1655176794193,
     "user": {
      "displayName": "Leonardo Evangelista Pereira",
      "userId": "15130530526199340986"
     },
     "user_tz": 180
    },
    "id": "1f257805",
    "outputId": "bc6a6c0b-0a3d-485a-f8b2-cdc18caccc13"
   },
   "outputs": [
    {
     "name": "stdout",
     "output_type": "stream",
     "text": [
      "<class 'pandas.core.frame.DataFrame'>\n",
      "RangeIndex: 9123 entries, 0 to 9122\n",
      "Data columns (total 6 columns):\n",
      " #   Column        Non-Null Count  Dtype \n",
      "---  ------        --------------  ----- \n",
      " 0   id            9123 non-null   int64 \n",
      " 1   date_created  9123 non-null   object\n",
      " 2   anonymous     9123 non-null   int64 \n",
      " 3   investor      9123 non-null   int64 \n",
      " 4   project       9123 non-null   int64 \n",
      " 5   value         9123 non-null   int64 \n",
      "dtypes: int64(5), object(1)\n",
      "memory usage: 427.8+ KB\n"
     ]
    }
   ],
   "source": [
    "investment.info()"
   ]
  },
  {
   "cell_type": "markdown",
   "id": "1a9cb70d",
   "metadata": {
    "id": "1a9cb70d"
   },
   "source": [
    "**Observations**\n",
    "\n",
    "- Most variables are int typed, when in fact they shouldn't;\n",
    "- There are no null values;\n",
    "- **Next Steps**\n",
    "    - Change the data types."
   ]
  },
  {
   "cell_type": "markdown",
   "id": "013a2667",
   "metadata": {
    "id": "013a2667"
   },
   "source": [
    "#### Checking the value's distribution"
   ]
  },
  {
   "cell_type": "code",
   "execution_count": 12,
   "id": "4aef45e5",
   "metadata": {
    "ExecuteTime": {
     "end_time": "2022-06-20T00:18:22.553765Z",
     "start_time": "2022-06-20T00:18:22.548372Z"
    },
    "colab": {
     "base_uri": "https://localhost:8080/"
    },
    "executionInfo": {
     "elapsed": 16,
     "status": "ok",
     "timestamp": 1655176794193,
     "user": {
      "displayName": "Leonardo Evangelista Pereira",
      "userId": "15130530526199340986"
     },
     "user_tz": 180
    },
    "id": "4aef45e5",
    "outputId": "868d7acf-e6e7-4ae4-f661-657833cace42"
   },
   "outputs": [
    {
     "data": {
      "text/plain": [
       "count      9123.00\n",
       "mean      12095.75\n",
       "std       20985.77\n",
       "min         500.00\n",
       "25%        5000.00\n",
       "50%       10000.00\n",
       "75%       10000.00\n",
       "max      600000.00\n",
       "Name: value, dtype: float64"
      ]
     },
     "execution_count": 12,
     "metadata": {},
     "output_type": "execute_result"
    }
   ],
   "source": [
    "round(investment['value'].describe(),2)"
   ]
  },
  {
   "cell_type": "markdown",
   "id": "57a784df",
   "metadata": {
    "id": "57a784df"
   },
   "source": [
    "**Observations**\n",
    "- In most cases the investment value is less than 10000;"
   ]
  },
  {
   "cell_type": "markdown",
   "id": "t-oFz2jZO1NM",
   "metadata": {
    "id": "t-oFz2jZO1NM"
   },
   "source": [
    "### Project Data"
   ]
  },
  {
   "cell_type": "markdown",
   "id": "0RDejl4hRpuj",
   "metadata": {
    "id": "0RDejl4hRpuj"
   },
   "source": [
    "#### Data Head"
   ]
  },
  {
   "cell_type": "code",
   "execution_count": 13,
   "id": "2bf627d4",
   "metadata": {
    "ExecuteTime": {
     "end_time": "2022-06-20T00:18:22.561001Z",
     "start_time": "2022-06-20T00:18:22.554573Z"
    },
    "colab": {
     "base_uri": "https://localhost:8080/",
     "height": 359
    },
    "executionInfo": {
     "elapsed": 14,
     "status": "ok",
     "timestamp": 1655176794193,
     "user": {
      "displayName": "Leonardo Evangelista Pereira",
      "userId": "15130530526199340986"
     },
     "user_tz": 180
    },
    "id": "2bf627d4",
    "outputId": "0c33c16f-1ba5-461a-dbd7-a9ef12e830cd"
   },
   "outputs": [
    {
     "data": {
      "text/html": [
       "<div>\n",
       "<style scoped>\n",
       "    .dataframe tbody tr th:only-of-type {\n",
       "        vertical-align: middle;\n",
       "    }\n",
       "\n",
       "    .dataframe tbody tr th {\n",
       "        vertical-align: top;\n",
       "    }\n",
       "\n",
       "    .dataframe thead th {\n",
       "        text-align: right;\n",
       "    }\n",
       "</style>\n",
       "<table border=\"1\" class=\"dataframe\">\n",
       "  <thead>\n",
       "    <tr style=\"text-align: right;\">\n",
       "      <th></th>\n",
       "      <th>id</th>\n",
       "      <th>date_created</th>\n",
       "      <th>validity</th>\n",
       "      <th>value</th>\n",
       "      <th>project_category</th>\n",
       "      <th>closed</th>\n",
       "      <th>date_open</th>\n",
       "      <th>modality</th>\n",
       "      <th>target</th>\n",
       "    </tr>\n",
       "  </thead>\n",
       "  <tbody>\n",
       "    <tr>\n",
       "      <th>0</th>\n",
       "      <td>1</td>\n",
       "      <td>2018-08-23 18:15:21</td>\n",
       "      <td>2018-10-31 00:00:00</td>\n",
       "      <td>750000</td>\n",
       "      <td>1</td>\n",
       "      <td>2018-11-01</td>\n",
       "      <td>2018-10-01 08:00:00</td>\n",
       "      <td>1</td>\n",
       "      <td>500000</td>\n",
       "    </tr>\n",
       "    <tr>\n",
       "      <th>1</th>\n",
       "      <td>4</td>\n",
       "      <td>2018-12-17 20:45:31</td>\n",
       "      <td>2019-02-28 00:00:00</td>\n",
       "      <td>750000</td>\n",
       "      <td>1</td>\n",
       "      <td>2019-03-10</td>\n",
       "      <td>2019-02-10 08:00:00</td>\n",
       "      <td>1</td>\n",
       "      <td>500000</td>\n",
       "    </tr>\n",
       "    <tr>\n",
       "      <th>2</th>\n",
       "      <td>5</td>\n",
       "      <td>2019-04-20 13:38:57</td>\n",
       "      <td>2019-06-14 00:00:00</td>\n",
       "      <td>1020000</td>\n",
       "      <td>1</td>\n",
       "      <td>2019-06-15</td>\n",
       "      <td>2019-05-15 08:00:00</td>\n",
       "      <td>1</td>\n",
       "      <td>680000</td>\n",
       "    </tr>\n",
       "    <tr>\n",
       "      <th>3</th>\n",
       "      <td>6</td>\n",
       "      <td>2019-07-29 17:26:33</td>\n",
       "      <td>2019-09-04 00:00:00</td>\n",
       "      <td>1200000</td>\n",
       "      <td>5</td>\n",
       "      <td>2019-08-19</td>\n",
       "      <td>2019-08-05 08:00:00</td>\n",
       "      <td>1</td>\n",
       "      <td>800000</td>\n",
       "    </tr>\n",
       "    <tr>\n",
       "      <th>4</th>\n",
       "      <td>7</td>\n",
       "      <td>2019-09-10 12:00:00</td>\n",
       "      <td>2019-10-15 23:59:00</td>\n",
       "      <td>810000</td>\n",
       "      <td>2</td>\n",
       "      <td>2019-09-27</td>\n",
       "      <td>2019-09-16 18:00:00</td>\n",
       "      <td>1</td>\n",
       "      <td>540000</td>\n",
       "    </tr>\n",
       "    <tr>\n",
       "      <th>5</th>\n",
       "      <td>8</td>\n",
       "      <td>2019-10-21 17:19:29</td>\n",
       "      <td>2019-11-21 18:00:00</td>\n",
       "      <td>600000</td>\n",
       "      <td>1</td>\n",
       "      <td>2019-11-21</td>\n",
       "      <td>2019-10-22 18:00:00</td>\n",
       "      <td>1</td>\n",
       "      <td>400000</td>\n",
       "    </tr>\n",
       "    <tr>\n",
       "      <th>6</th>\n",
       "      <td>9</td>\n",
       "      <td>2019-11-07 13:44:28</td>\n",
       "      <td>2019-12-17 23:55:00</td>\n",
       "      <td>1200000</td>\n",
       "      <td>5</td>\n",
       "      <td>2019-12-06</td>\n",
       "      <td>2019-11-18 18:00:00</td>\n",
       "      <td>1</td>\n",
       "      <td>800000</td>\n",
       "    </tr>\n",
       "    <tr>\n",
       "      <th>7</th>\n",
       "      <td>10</td>\n",
       "      <td>2019-12-20 16:39:07</td>\n",
       "      <td>2020-02-10 18:00:00</td>\n",
       "      <td>1300000</td>\n",
       "      <td>4</td>\n",
       "      <td>2020-02-10</td>\n",
       "      <td>2020-01-06 18:00:00</td>\n",
       "      <td>1</td>\n",
       "      <td>866667</td>\n",
       "    </tr>\n",
       "    <tr>\n",
       "      <th>8</th>\n",
       "      <td>11</td>\n",
       "      <td>2020-01-20 18:28:07</td>\n",
       "      <td>2020-03-04 23:55:00</td>\n",
       "      <td>1750000</td>\n",
       "      <td>2</td>\n",
       "      <td>2020-02-20</td>\n",
       "      <td>2020-01-27 18:30:00</td>\n",
       "      <td>2</td>\n",
       "      <td>1750000</td>\n",
       "    </tr>\n",
       "    <tr>\n",
       "      <th>9</th>\n",
       "      <td>13</td>\n",
       "      <td>2020-03-19 18:17:36</td>\n",
       "      <td>2020-06-06 18:00:00</td>\n",
       "      <td>1200000</td>\n",
       "      <td>2</td>\n",
       "      <td>2020-04-29</td>\n",
       "      <td>2020-04-06 09:00:00</td>\n",
       "      <td>2</td>\n",
       "      <td>1200000</td>\n",
       "    </tr>\n",
       "  </tbody>\n",
       "</table>\n",
       "</div>"
      ],
      "text/plain": [
       "   id         date_created             validity    value  project_category  \\\n",
       "0   1  2018-08-23 18:15:21  2018-10-31 00:00:00   750000                 1   \n",
       "1   4  2018-12-17 20:45:31  2019-02-28 00:00:00   750000                 1   \n",
       "2   5  2019-04-20 13:38:57  2019-06-14 00:00:00  1020000                 1   \n",
       "3   6  2019-07-29 17:26:33  2019-09-04 00:00:00  1200000                 5   \n",
       "4   7  2019-09-10 12:00:00  2019-10-15 23:59:00   810000                 2   \n",
       "5   8  2019-10-21 17:19:29  2019-11-21 18:00:00   600000                 1   \n",
       "6   9  2019-11-07 13:44:28  2019-12-17 23:55:00  1200000                 5   \n",
       "7  10  2019-12-20 16:39:07  2020-02-10 18:00:00  1300000                 4   \n",
       "8  11  2020-01-20 18:28:07  2020-03-04 23:55:00  1750000                 2   \n",
       "9  13  2020-03-19 18:17:36  2020-06-06 18:00:00  1200000                 2   \n",
       "\n",
       "       closed            date_open  modality   target  \n",
       "0  2018-11-01  2018-10-01 08:00:00         1   500000  \n",
       "1  2019-03-10  2019-02-10 08:00:00         1   500000  \n",
       "2  2019-06-15  2019-05-15 08:00:00         1   680000  \n",
       "3  2019-08-19  2019-08-05 08:00:00         1   800000  \n",
       "4  2019-09-27  2019-09-16 18:00:00         1   540000  \n",
       "5  2019-11-21  2019-10-22 18:00:00         1   400000  \n",
       "6  2019-12-06  2019-11-18 18:00:00         1   800000  \n",
       "7  2020-02-10  2020-01-06 18:00:00         1   866667  \n",
       "8  2020-02-20  2020-01-27 18:30:00         2  1750000  \n",
       "9  2020-04-29  2020-04-06 09:00:00         2  1200000  "
      ]
     },
     "execution_count": 13,
     "metadata": {},
     "output_type": "execute_result"
    }
   ],
   "source": [
    "project.head(10)"
   ]
  },
  {
   "cell_type": "code",
   "execution_count": 14,
   "id": "ee275480",
   "metadata": {
    "ExecuteTime": {
     "end_time": "2022-06-20T00:18:22.567437Z",
     "start_time": "2022-06-20T00:18:22.562039Z"
    },
    "colab": {
     "base_uri": "https://localhost:8080/",
     "height": 235
    },
    "executionInfo": {
     "elapsed": 12,
     "status": "ok",
     "timestamp": 1655176794194,
     "user": {
      "displayName": "Leonardo Evangelista Pereira",
      "userId": "15130530526199340986"
     },
     "user_tz": 180
    },
    "id": "ee275480",
    "outputId": "719618df-b679-4879-a3a9-7c3425a0634c"
   },
   "outputs": [
    {
     "data": {
      "text/html": [
       "<div>\n",
       "<style scoped>\n",
       "    .dataframe tbody tr th:only-of-type {\n",
       "        vertical-align: middle;\n",
       "    }\n",
       "\n",
       "    .dataframe tbody tr th {\n",
       "        vertical-align: top;\n",
       "    }\n",
       "\n",
       "    .dataframe thead th {\n",
       "        text-align: right;\n",
       "    }\n",
       "</style>\n",
       "<table border=\"1\" class=\"dataframe\">\n",
       "  <thead>\n",
       "    <tr style=\"text-align: right;\">\n",
       "      <th></th>\n",
       "      <th>id</th>\n",
       "      <th>date_created</th>\n",
       "      <th>name</th>\n",
       "    </tr>\n",
       "  </thead>\n",
       "  <tbody>\n",
       "    <tr>\n",
       "      <th>0</th>\n",
       "      <td>1</td>\n",
       "      <td>NaN</td>\n",
       "      <td>Imobiliária</td>\n",
       "    </tr>\n",
       "    <tr>\n",
       "      <th>1</th>\n",
       "      <td>2</td>\n",
       "      <td>NaN</td>\n",
       "      <td>Energia</td>\n",
       "    </tr>\n",
       "    <tr>\n",
       "      <th>2</th>\n",
       "      <td>3</td>\n",
       "      <td>NaN</td>\n",
       "      <td>Ativos judiciais</td>\n",
       "    </tr>\n",
       "    <tr>\n",
       "      <th>3</th>\n",
       "      <td>4</td>\n",
       "      <td>NaN</td>\n",
       "      <td>Agronegócio</td>\n",
       "    </tr>\n",
       "    <tr>\n",
       "      <th>4</th>\n",
       "      <td>5</td>\n",
       "      <td>NaN</td>\n",
       "      <td>Comercial</td>\n",
       "    </tr>\n",
       "    <tr>\n",
       "      <th>5</th>\n",
       "      <td>6</td>\n",
       "      <td>NaN</td>\n",
       "      <td>Startups</td>\n",
       "    </tr>\n",
       "  </tbody>\n",
       "</table>\n",
       "</div>"
      ],
      "text/plain": [
       "   id  date_created              name\n",
       "0   1           NaN       Imobiliária\n",
       "1   2           NaN           Energia\n",
       "2   3           NaN  Ativos judiciais\n",
       "3   4           NaN       Agronegócio\n",
       "4   5           NaN         Comercial\n",
       "5   6           NaN          Startups"
      ]
     },
     "execution_count": 14,
     "metadata": {},
     "output_type": "execute_result"
    }
   ],
   "source": [
    "project_category"
   ]
  },
  {
   "cell_type": "markdown",
   "id": "CwYht98GRr4V",
   "metadata": {
    "id": "CwYht98GRr4V"
   },
   "source": [
    "#### Basic Info"
   ]
  },
  {
   "cell_type": "code",
   "execution_count": 15,
   "id": "51c539ae",
   "metadata": {
    "ExecuteTime": {
     "end_time": "2022-06-20T00:18:22.574065Z",
     "start_time": "2022-06-20T00:18:22.568699Z"
    },
    "colab": {
     "base_uri": "https://localhost:8080/"
    },
    "executionInfo": {
     "elapsed": 14,
     "status": "ok",
     "timestamp": 1655176794194,
     "user": {
      "displayName": "Leonardo Evangelista Pereira",
      "userId": "15130530526199340986"
     },
     "user_tz": 180
    },
    "id": "51c539ae",
    "outputId": "8a5e1bf1-adf3-45e2-c134-b99e9d40fac0"
   },
   "outputs": [
    {
     "name": "stdout",
     "output_type": "stream",
     "text": [
      "<class 'pandas.core.frame.DataFrame'>\n",
      "RangeIndex: 60 entries, 0 to 59\n",
      "Data columns (total 9 columns):\n",
      " #   Column            Non-Null Count  Dtype \n",
      "---  ------            --------------  ----- \n",
      " 0   id                60 non-null     int64 \n",
      " 1   date_created      60 non-null     object\n",
      " 2   validity          60 non-null     object\n",
      " 3   value             60 non-null     int64 \n",
      " 4   project_category  60 non-null     int64 \n",
      " 5   closed            60 non-null     object\n",
      " 6   date_open         60 non-null     object\n",
      " 7   modality          60 non-null     int64 \n",
      " 8   target            60 non-null     int64 \n",
      "dtypes: int64(5), object(4)\n",
      "memory usage: 4.3+ KB\n"
     ]
    }
   ],
   "source": [
    "project.info()"
   ]
  },
  {
   "cell_type": "markdown",
   "id": "KBYlYv0BRupb",
   "metadata": {
    "id": "KBYlYv0BRupb"
   },
   "source": [
    "#### Data Distribution"
   ]
  },
  {
   "cell_type": "code",
   "execution_count": 16,
   "id": "7AfczPSfR93r",
   "metadata": {
    "ExecuteTime": {
     "end_time": "2022-06-20T00:18:22.650196Z",
     "start_time": "2022-06-20T00:18:22.575719Z"
    },
    "colab": {
     "base_uri": "https://localhost:8080/",
     "height": 295
    },
    "executionInfo": {
     "elapsed": 6,
     "status": "ok",
     "timestamp": 1655177788735,
     "user": {
      "displayName": "Leonardo Evangelista Pereira",
      "userId": "15130530526199340986"
     },
     "user_tz": 180
    },
    "id": "7AfczPSfR93r",
    "outputId": "8b68c878-ca0d-469c-9d42-952f197a30d6"
   },
   "outputs": [
    {
     "data": {
      "image/png": "[encoded data removed]",
      "text/plain": [
       "<Figure size 432x288 with 1 Axes>"
      ]
     },
     "metadata": {
      "needs_background": "light"
     },
     "output_type": "display_data"
    }
   ],
   "source": [
    "sns.countplot(project['modality'], palette = 'PuBu')\n",
    "plt.title('Modality Count')\n",
    "plt.show()"
   ]
  },
  {
   "cell_type": "code",
   "execution_count": 17,
   "id": "ntbQAd4tSRQk",
   "metadata": {
    "ExecuteTime": {
     "end_time": "2022-06-20T00:18:22.717682Z",
     "start_time": "2022-06-20T00:18:22.651356Z"
    },
    "colab": {
     "base_uri": "https://localhost:8080/",
     "height": 296
    },
    "executionInfo": {
     "elapsed": 426,
     "status": "ok",
     "timestamp": 1655177830784,
     "user": {
      "displayName": "Leonardo Evangelista Pereira",
      "userId": "15130530526199340986"
     },
     "user_tz": 180
    },
    "id": "ntbQAd4tSRQk",
    "outputId": "f4091bbd-0168-4c13-d3f7-2828bbf28ed6"
   },
   "outputs": [
    {
     "data": {
      "image/png": "[encoded data removed]",
      "text/plain": [
       "<Figure size 432x288 with 1 Axes>"
      ]
     },
     "metadata": {
      "needs_background": "light"
     },
     "output_type": "display_data"
    }
   ],
   "source": [
    "sns.countplot(project['project_category'], palette = 'PuBu')\n",
    "plt.title('Category Count')\n",
    "plt.show()"
   ]
  },
  {
   "cell_type": "markdown",
   "id": "YMD9eJ6RQ0KR",
   "metadata": {
    "id": "YMD9eJ6RQ0KR"
   },
   "source": [
    "**Observations**\n",
    "- The amount of products per category is well balanced, except for investments in real estate, where there is only one product available;\n",
    "- There are more products in the equity modality than in the debt one, but the difference is almost irrelevant.\n",
    "\n",
    "- **Next Steps:**\n",
    "    - Change the data types."
   ]
  },
  {
   "cell_type": "markdown",
   "id": "8f7e4179",
   "metadata": {
    "id": "8f7e4179"
   },
   "source": [
    "### Investor Data"
   ]
  },
  {
   "cell_type": "markdown",
   "id": "UGI0D41jSzfo",
   "metadata": {
    "id": "UGI0D41jSzfo"
   },
   "source": [
    "#### Data Head"
   ]
  },
  {
   "cell_type": "code",
   "execution_count": 18,
   "id": "8d3dea65",
   "metadata": {
    "ExecuteTime": {
     "end_time": "2022-06-20T00:18:22.727368Z",
     "start_time": "2022-06-20T00:18:22.718687Z"
    },
    "colab": {
     "base_uri": "https://localhost:8080/",
     "height": 419
    },
    "executionInfo": {
     "elapsed": 11,
     "status": "ok",
     "timestamp": 1655176794194,
     "user": {
      "displayName": "Leonardo Evangelista Pereira",
      "userId": "15130530526199340986"
     },
     "user_tz": 180
    },
    "id": "8d3dea65",
    "outputId": "3968e43e-d341-4db2-efd5-9a656c0dfa10"
   },
   "outputs": [
    {
     "data": {
      "text/html": [
       "<div>\n",
       "<style scoped>\n",
       "    .dataframe tbody tr th:only-of-type {\n",
       "        vertical-align: middle;\n",
       "    }\n",
       "\n",
       "    .dataframe tbody tr th {\n",
       "        vertical-align: top;\n",
       "    }\n",
       "\n",
       "    .dataframe thead th {\n",
       "        text-align: right;\n",
       "    }\n",
       "</style>\n",
       "<table border=\"1\" class=\"dataframe\">\n",
       "  <thead>\n",
       "    <tr style=\"text-align: right;\">\n",
       "      <th></th>\n",
       "      <th>id</th>\n",
       "      <th>date_created</th>\n",
       "      <th>birth</th>\n",
       "      <th>marital_status</th>\n",
       "      <th>gender</th>\n",
       "      <th>investor_type</th>\n",
       "      <th>nationality</th>\n",
       "      <th>channel</th>\n",
       "    </tr>\n",
       "  </thead>\n",
       "  <tbody>\n",
       "    <tr>\n",
       "      <th>0</th>\n",
       "      <td>1</td>\n",
       "      <td>2018-08-22 18:42:54</td>\n",
       "      <td>1993-04-01</td>\n",
       "      <td>Casado(a)</td>\n",
       "      <td>1.0</td>\n",
       "      <td>pf</td>\n",
       "      <td>brazilian_born</td>\n",
       "      <td>indication</td>\n",
       "    </tr>\n",
       "    <tr>\n",
       "      <th>1</th>\n",
       "      <td>3</td>\n",
       "      <td>2018-08-23 18:38:25</td>\n",
       "      <td>1982-08-11</td>\n",
       "      <td>Casado(a)</td>\n",
       "      <td>1.0</td>\n",
       "      <td>pf</td>\n",
       "      <td>brazilian_born</td>\n",
       "      <td>NaN</td>\n",
       "    </tr>\n",
       "    <tr>\n",
       "      <th>2</th>\n",
       "      <td>4</td>\n",
       "      <td>2018-08-25 18:09:51</td>\n",
       "      <td>1983-01-05</td>\n",
       "      <td>Casado(a)</td>\n",
       "      <td>1.0</td>\n",
       "      <td>pf</td>\n",
       "      <td>brazilian_born</td>\n",
       "      <td>NaN</td>\n",
       "    </tr>\n",
       "    <tr>\n",
       "      <th>3</th>\n",
       "      <td>5</td>\n",
       "      <td>2018-08-26 07:48:54</td>\n",
       "      <td>NaN</td>\n",
       "      <td>NaN</td>\n",
       "      <td>NaN</td>\n",
       "      <td>pf</td>\n",
       "      <td>brazilian_born</td>\n",
       "      <td>NaN</td>\n",
       "    </tr>\n",
       "    <tr>\n",
       "      <th>4</th>\n",
       "      <td>6</td>\n",
       "      <td>2018-08-26 10:14:20</td>\n",
       "      <td>1985-07-04</td>\n",
       "      <td>Solteiro(a)</td>\n",
       "      <td>1.0</td>\n",
       "      <td>pf</td>\n",
       "      <td>brazilian_born</td>\n",
       "      <td>NaN</td>\n",
       "    </tr>\n",
       "    <tr>\n",
       "      <th>...</th>\n",
       "      <td>...</td>\n",
       "      <td>...</td>\n",
       "      <td>...</td>\n",
       "      <td>...</td>\n",
       "      <td>...</td>\n",
       "      <td>...</td>\n",
       "      <td>...</td>\n",
       "      <td>...</td>\n",
       "    </tr>\n",
       "    <tr>\n",
       "      <th>22454</th>\n",
       "      <td>26018</td>\n",
       "      <td>2022-06-07 09:16:50</td>\n",
       "      <td>NaN</td>\n",
       "      <td>NaN</td>\n",
       "      <td>NaN</td>\n",
       "      <td>pj</td>\n",
       "      <td>brazilian_born</td>\n",
       "      <td>NaN</td>\n",
       "    </tr>\n",
       "    <tr>\n",
       "      <th>22455</th>\n",
       "      <td>26019</td>\n",
       "      <td>2022-06-07 09:17:43</td>\n",
       "      <td>NaN</td>\n",
       "      <td>NaN</td>\n",
       "      <td>NaN</td>\n",
       "      <td>pf</td>\n",
       "      <td>brazilian_born</td>\n",
       "      <td>NaN</td>\n",
       "    </tr>\n",
       "    <tr>\n",
       "      <th>22456</th>\n",
       "      <td>26022</td>\n",
       "      <td>2022-06-07 10:33:58</td>\n",
       "      <td>NaN</td>\n",
       "      <td>NaN</td>\n",
       "      <td>NaN</td>\n",
       "      <td>pf</td>\n",
       "      <td>brazilian_born</td>\n",
       "      <td>NaN</td>\n",
       "    </tr>\n",
       "    <tr>\n",
       "      <th>22457</th>\n",
       "      <td>26023</td>\n",
       "      <td>2022-06-07 10:35:26</td>\n",
       "      <td>1985-11-24</td>\n",
       "      <td>Casado(a)</td>\n",
       "      <td>1.0</td>\n",
       "      <td>pj</td>\n",
       "      <td>brazilian_born</td>\n",
       "      <td>NaN</td>\n",
       "    </tr>\n",
       "    <tr>\n",
       "      <th>22458</th>\n",
       "      <td>26024</td>\n",
       "      <td>2022-06-07 10:55:13</td>\n",
       "      <td>NaN</td>\n",
       "      <td>NaN</td>\n",
       "      <td>NaN</td>\n",
       "      <td>pf</td>\n",
       "      <td>brazilian_born</td>\n",
       "      <td>NaN</td>\n",
       "    </tr>\n",
       "  </tbody>\n",
       "</table>\n",
       "<p>22459 rows × 8 columns</p>\n",
       "</div>"
      ],
      "text/plain": [
       "          id         date_created       birth marital_status  gender  \\\n",
       "0          1  2018-08-22 18:42:54  1993-04-01      Casado(a)     1.0   \n",
       "1          3  2018-08-23 18:38:25  1982-08-11      Casado(a)     1.0   \n",
       "2          4  2018-08-25 18:09:51  1983-01-05      Casado(a)     1.0   \n",
       "3          5  2018-08-26 07:48:54         NaN            NaN     NaN   \n",
       "4          6  2018-08-26 10:14:20  1985-07-04    Solteiro(a)     1.0   \n",
       "...      ...                  ...         ...            ...     ...   \n",
       "22454  26018  2022-06-07 09:16:50         NaN            NaN     NaN   \n",
       "22455  26019  2022-06-07 09:17:43         NaN            NaN     NaN   \n",
       "22456  26022  2022-06-07 10:33:58         NaN            NaN     NaN   \n",
       "22457  26023  2022-06-07 10:35:26  1985-11-24      Casado(a)     1.0   \n",
       "22458  26024  2022-06-07 10:55:13         NaN            NaN     NaN   \n",
       "\n",
       "      investor_type     nationality     channel  \n",
       "0                pf  brazilian_born  indication  \n",
       "1                pf  brazilian_born         NaN  \n",
       "2                pf  brazilian_born         NaN  \n",
       "3                pf  brazilian_born         NaN  \n",
       "4                pf  brazilian_born         NaN  \n",
       "...             ...             ...         ...  \n",
       "22454            pj  brazilian_born         NaN  \n",
       "22455            pf  brazilian_born         NaN  \n",
       "22456            pf  brazilian_born         NaN  \n",
       "22457            pj  brazilian_born         NaN  \n",
       "22458            pf  brazilian_born         NaN  \n",
       "\n",
       "[22459 rows x 8 columns]"
      ]
     },
     "execution_count": 18,
     "metadata": {},
     "output_type": "execute_result"
    }
   ],
   "source": [
    "investor"
   ]
  },
  {
   "cell_type": "code",
   "execution_count": 19,
   "id": "4053e4ed",
   "metadata": {
    "ExecuteTime": {
     "end_time": "2022-06-20T00:18:22.735671Z",
     "start_time": "2022-06-20T00:18:22.728277Z"
    },
    "colab": {
     "base_uri": "https://localhost:8080/",
     "height": 419
    },
    "executionInfo": {
     "elapsed": 11,
     "status": "ok",
     "timestamp": 1655176794194,
     "user": {
      "displayName": "Leonardo Evangelista Pereira",
      "userId": "15130530526199340986"
     },
     "user_tz": 180
    },
    "id": "4053e4ed",
    "outputId": "fabeee2c-a4e0-41f0-d74e-2d866ae4973d"
   },
   "outputs": [
    {
     "data": {
      "text/html": [
       "<div>\n",
       "<style scoped>\n",
       "    .dataframe tbody tr th:only-of-type {\n",
       "        vertical-align: middle;\n",
       "    }\n",
       "\n",
       "    .dataframe tbody tr th {\n",
       "        vertical-align: top;\n",
       "    }\n",
       "\n",
       "    .dataframe thead th {\n",
       "        text-align: right;\n",
       "    }\n",
       "</style>\n",
       "<table border=\"1\" class=\"dataframe\">\n",
       "  <thead>\n",
       "    <tr style=\"text-align: right;\">\n",
       "      <th></th>\n",
       "      <th>id</th>\n",
       "      <th>date_created</th>\n",
       "      <th>investor</th>\n",
       "      <th>office</th>\n",
       "      <th>profession</th>\n",
       "    </tr>\n",
       "  </thead>\n",
       "  <tbody>\n",
       "    <tr>\n",
       "      <th>0</th>\n",
       "      <td>5</td>\n",
       "      <td>2018-08-26 13:09:38</td>\n",
       "      <td>7</td>\n",
       "      <td>Diretor</td>\n",
       "      <td>Engenheiro Civil</td>\n",
       "    </tr>\n",
       "    <tr>\n",
       "      <th>1</th>\n",
       "      <td>6</td>\n",
       "      <td>2018-08-26 22:35:08</td>\n",
       "      <td>10</td>\n",
       "      <td>estagiário de marketing</td>\n",
       "      <td>Estudante</td>\n",
       "    </tr>\n",
       "    <tr>\n",
       "      <th>2</th>\n",
       "      <td>10</td>\n",
       "      <td>2018-08-30 19:28:27</td>\n",
       "      <td>15</td>\n",
       "      <td>CMO</td>\n",
       "      <td>Publicitário</td>\n",
       "    </tr>\n",
       "    <tr>\n",
       "      <th>3</th>\n",
       "      <td>12</td>\n",
       "      <td>2018-09-03 20:41:50</td>\n",
       "      <td>16</td>\n",
       "      <td>CEO</td>\n",
       "      <td>Advogado</td>\n",
       "    </tr>\n",
       "    <tr>\n",
       "      <th>4</th>\n",
       "      <td>13</td>\n",
       "      <td>2018-09-03 21:56:00</td>\n",
       "      <td>19</td>\n",
       "      <td>CEO</td>\n",
       "      <td>Analista de Sistemas</td>\n",
       "    </tr>\n",
       "    <tr>\n",
       "      <th>...</th>\n",
       "      <td>...</td>\n",
       "      <td>...</td>\n",
       "      <td>...</td>\n",
       "      <td>...</td>\n",
       "      <td>...</td>\n",
       "    </tr>\n",
       "    <tr>\n",
       "      <th>5324</th>\n",
       "      <td>7360</td>\n",
       "      <td>2022-06-04 08:51:17</td>\n",
       "      <td>25923</td>\n",
       "      <td>autônomo</td>\n",
       "      <td>medico</td>\n",
       "    </tr>\n",
       "    <tr>\n",
       "      <th>5325</th>\n",
       "      <td>7361</td>\n",
       "      <td>2022-06-04 10:54:48</td>\n",
       "      <td>25950</td>\n",
       "      <td>gerente</td>\n",
       "      <td>empresario</td>\n",
       "    </tr>\n",
       "    <tr>\n",
       "      <th>5326</th>\n",
       "      <td>7362</td>\n",
       "      <td>2022-06-04 18:29:31</td>\n",
       "      <td>25917</td>\n",
       "      <td>diretoe</td>\n",
       "      <td>administrador</td>\n",
       "    </tr>\n",
       "    <tr>\n",
       "      <th>5327</th>\n",
       "      <td>7363</td>\n",
       "      <td>2022-06-06 10:53:47</td>\n",
       "      <td>26000</td>\n",
       "      <td>Empresário</td>\n",
       "      <td>Empresário</td>\n",
       "    </tr>\n",
       "    <tr>\n",
       "      <th>5328</th>\n",
       "      <td>7364</td>\n",
       "      <td>2022-06-07 10:42:14</td>\n",
       "      <td>26023</td>\n",
       "      <td>SOCIO - DIRETOR</td>\n",
       "      <td>EMPRESARIO</td>\n",
       "    </tr>\n",
       "  </tbody>\n",
       "</table>\n",
       "<p>5329 rows × 5 columns</p>\n",
       "</div>"
      ],
      "text/plain": [
       "        id         date_created  investor                   office  \\\n",
       "0        5  2018-08-26 13:09:38         7                  Diretor   \n",
       "1        6  2018-08-26 22:35:08        10  estagiário de marketing   \n",
       "2       10  2018-08-30 19:28:27        15                      CMO   \n",
       "3       12  2018-09-03 20:41:50        16                      CEO   \n",
       "4       13  2018-09-03 21:56:00        19                      CEO   \n",
       "...    ...                  ...       ...                      ...   \n",
       "5324  7360  2022-06-04 08:51:17     25923                 autônomo   \n",
       "5325  7361  2022-06-04 10:54:48     25950                  gerente   \n",
       "5326  7362  2022-06-04 18:29:31     25917                  diretoe   \n",
       "5327  7363  2022-06-06 10:53:47     26000               Empresário   \n",
       "5328  7364  2022-06-07 10:42:14     26023          SOCIO - DIRETOR   \n",
       "\n",
       "                profession  \n",
       "0         Engenheiro Civil  \n",
       "1                Estudante  \n",
       "2             Publicitário  \n",
       "3                 Advogado  \n",
       "4     Analista de Sistemas  \n",
       "...                    ...  \n",
       "5324                medico  \n",
       "5325            empresario  \n",
       "5326         administrador  \n",
       "5327            Empresário  \n",
       "5328            EMPRESARIO  \n",
       "\n",
       "[5329 rows x 5 columns]"
      ]
     },
     "execution_count": 19,
     "metadata": {},
     "output_type": "execute_result"
    }
   ],
   "source": [
    "investor_work"
   ]
  },
  {
   "cell_type": "code",
   "execution_count": 20,
   "id": "4efa64e9",
   "metadata": {
    "ExecuteTime": {
     "end_time": "2022-06-20T00:18:22.743015Z",
     "start_time": "2022-06-20T00:18:22.736469Z"
    },
    "colab": {
     "base_uri": "https://localhost:8080/",
     "height": 419
    },
    "executionInfo": {
     "elapsed": 10,
     "status": "ok",
     "timestamp": 1655176794194,
     "user": {
      "displayName": "Leonardo Evangelista Pereira",
      "userId": "15130530526199340986"
     },
     "user_tz": 180
    },
    "id": "4efa64e9",
    "outputId": "de290588-4d62-4f11-8990-5df632d42b2e"
   },
   "outputs": [
    {
     "data": {
      "text/html": [
       "<div>\n",
       "<style scoped>\n",
       "    .dataframe tbody tr th:only-of-type {\n",
       "        vertical-align: middle;\n",
       "    }\n",
       "\n",
       "    .dataframe tbody tr th {\n",
       "        vertical-align: top;\n",
       "    }\n",
       "\n",
       "    .dataframe thead th {\n",
       "        text-align: right;\n",
       "    }\n",
       "</style>\n",
       "<table border=\"1\" class=\"dataframe\">\n",
       "  <thead>\n",
       "    <tr style=\"text-align: right;\">\n",
       "      <th></th>\n",
       "      <th>id</th>\n",
       "      <th>date_created</th>\n",
       "      <th>country</th>\n",
       "      <th>investor</th>\n",
       "      <th>state</th>\n",
       "    </tr>\n",
       "  </thead>\n",
       "  <tbody>\n",
       "    <tr>\n",
       "      <th>0</th>\n",
       "      <td>5</td>\n",
       "      <td>2018-08-26 13:09:38</td>\n",
       "      <td>1</td>\n",
       "      <td>7</td>\n",
       "      <td>PE</td>\n",
       "    </tr>\n",
       "    <tr>\n",
       "      <th>1</th>\n",
       "      <td>6</td>\n",
       "      <td>2018-08-26 22:35:08</td>\n",
       "      <td>1</td>\n",
       "      <td>10</td>\n",
       "      <td>BA</td>\n",
       "    </tr>\n",
       "    <tr>\n",
       "      <th>2</th>\n",
       "      <td>10</td>\n",
       "      <td>2018-08-30 19:28:27</td>\n",
       "      <td>1</td>\n",
       "      <td>15</td>\n",
       "      <td>BA</td>\n",
       "    </tr>\n",
       "    <tr>\n",
       "      <th>3</th>\n",
       "      <td>12</td>\n",
       "      <td>2018-09-03 20:41:50</td>\n",
       "      <td>1</td>\n",
       "      <td>16</td>\n",
       "      <td>SE</td>\n",
       "    </tr>\n",
       "    <tr>\n",
       "      <th>4</th>\n",
       "      <td>13</td>\n",
       "      <td>2018-09-03 21:56:00</td>\n",
       "      <td>1</td>\n",
       "      <td>19</td>\n",
       "      <td>BA</td>\n",
       "    </tr>\n",
       "    <tr>\n",
       "      <th>...</th>\n",
       "      <td>...</td>\n",
       "      <td>...</td>\n",
       "      <td>...</td>\n",
       "      <td>...</td>\n",
       "      <td>...</td>\n",
       "    </tr>\n",
       "    <tr>\n",
       "      <th>12183</th>\n",
       "      <td>15052</td>\n",
       "      <td>2022-06-05 07:39:17</td>\n",
       "      <td>1</td>\n",
       "      <td>25576</td>\n",
       "      <td>MA</td>\n",
       "    </tr>\n",
       "    <tr>\n",
       "      <th>12184</th>\n",
       "      <td>15053</td>\n",
       "      <td>2022-06-06 09:52:46</td>\n",
       "      <td>1</td>\n",
       "      <td>25628</td>\n",
       "      <td>MG</td>\n",
       "    </tr>\n",
       "    <tr>\n",
       "      <th>12185</th>\n",
       "      <td>15054</td>\n",
       "      <td>2022-06-06 10:53:47</td>\n",
       "      <td>1</td>\n",
       "      <td>26000</td>\n",
       "      <td>CE</td>\n",
       "    </tr>\n",
       "    <tr>\n",
       "      <th>12186</th>\n",
       "      <td>15055</td>\n",
       "      <td>2022-06-06 19:27:27</td>\n",
       "      <td>1</td>\n",
       "      <td>24765</td>\n",
       "      <td>BA</td>\n",
       "    </tr>\n",
       "    <tr>\n",
       "      <th>12187</th>\n",
       "      <td>15056</td>\n",
       "      <td>2022-06-07 10:42:14</td>\n",
       "      <td>1</td>\n",
       "      <td>26023</td>\n",
       "      <td>PR</td>\n",
       "    </tr>\n",
       "  </tbody>\n",
       "</table>\n",
       "<p>12188 rows × 5 columns</p>\n",
       "</div>"
      ],
      "text/plain": [
       "          id         date_created  country  investor state\n",
       "0          5  2018-08-26 13:09:38        1         7    PE\n",
       "1          6  2018-08-26 22:35:08        1        10    BA\n",
       "2         10  2018-08-30 19:28:27        1        15    BA\n",
       "3         12  2018-09-03 20:41:50        1        16    SE\n",
       "4         13  2018-09-03 21:56:00        1        19    BA\n",
       "...      ...                  ...      ...       ...   ...\n",
       "12183  15052  2022-06-05 07:39:17        1     25576    MA\n",
       "12184  15053  2022-06-06 09:52:46        1     25628    MG\n",
       "12185  15054  2022-06-06 10:53:47        1     26000    CE\n",
       "12186  15055  2022-06-06 19:27:27        1     24765    BA\n",
       "12187  15056  2022-06-07 10:42:14        1     26023    PR\n",
       "\n",
       "[12188 rows x 5 columns]"
      ]
     },
     "execution_count": 20,
     "metadata": {},
     "output_type": "execute_result"
    }
   ],
   "source": [
    "investor_company"
   ]
  },
  {
   "cell_type": "code",
   "execution_count": 21,
   "id": "2dd54365",
   "metadata": {
    "ExecuteTime": {
     "end_time": "2022-06-20T00:18:22.751253Z",
     "start_time": "2022-06-20T00:18:22.743885Z"
    },
    "colab": {
     "base_uri": "https://localhost:8080/",
     "height": 419
    },
    "executionInfo": {
     "elapsed": 10,
     "status": "ok",
     "timestamp": 1655176794194,
     "user": {
      "displayName": "Leonardo Evangelista Pereira",
      "userId": "15130530526199340986"
     },
     "user_tz": 180
    },
    "id": "2dd54365",
    "outputId": "dea0af0a-d78f-4102-84dd-c3495f5e9751"
   },
   "outputs": [
    {
     "data": {
      "text/html": [
       "<div>\n",
       "<style scoped>\n",
       "    .dataframe tbody tr th:only-of-type {\n",
       "        vertical-align: middle;\n",
       "    }\n",
       "\n",
       "    .dataframe tbody tr th {\n",
       "        vertical-align: top;\n",
       "    }\n",
       "\n",
       "    .dataframe thead th {\n",
       "        text-align: right;\n",
       "    }\n",
       "</style>\n",
       "<table border=\"1\" class=\"dataframe\">\n",
       "  <thead>\n",
       "    <tr style=\"text-align: right;\">\n",
       "      <th></th>\n",
       "      <th>id</th>\n",
       "      <th>date_created</th>\n",
       "      <th>country</th>\n",
       "      <th>investor</th>\n",
       "      <th>state</th>\n",
       "    </tr>\n",
       "  </thead>\n",
       "  <tbody>\n",
       "    <tr>\n",
       "      <th>0</th>\n",
       "      <td>5</td>\n",
       "      <td>2018-08-26 13:09:38</td>\n",
       "      <td>1</td>\n",
       "      <td>7</td>\n",
       "      <td>PE</td>\n",
       "    </tr>\n",
       "    <tr>\n",
       "      <th>1</th>\n",
       "      <td>6</td>\n",
       "      <td>2018-08-26 22:35:08</td>\n",
       "      <td>1</td>\n",
       "      <td>10</td>\n",
       "      <td>BA</td>\n",
       "    </tr>\n",
       "    <tr>\n",
       "      <th>2</th>\n",
       "      <td>10</td>\n",
       "      <td>2018-08-30 19:28:27</td>\n",
       "      <td>1</td>\n",
       "      <td>15</td>\n",
       "      <td>BA</td>\n",
       "    </tr>\n",
       "    <tr>\n",
       "      <th>3</th>\n",
       "      <td>12</td>\n",
       "      <td>2018-09-03 20:41:50</td>\n",
       "      <td>1</td>\n",
       "      <td>16</td>\n",
       "      <td>SE</td>\n",
       "    </tr>\n",
       "    <tr>\n",
       "      <th>4</th>\n",
       "      <td>13</td>\n",
       "      <td>2018-09-03 21:56:00</td>\n",
       "      <td>1</td>\n",
       "      <td>19</td>\n",
       "      <td>BA</td>\n",
       "    </tr>\n",
       "    <tr>\n",
       "      <th>...</th>\n",
       "      <td>...</td>\n",
       "      <td>...</td>\n",
       "      <td>...</td>\n",
       "      <td>...</td>\n",
       "      <td>...</td>\n",
       "    </tr>\n",
       "    <tr>\n",
       "      <th>12183</th>\n",
       "      <td>15052</td>\n",
       "      <td>2022-06-05 07:39:17</td>\n",
       "      <td>1</td>\n",
       "      <td>25576</td>\n",
       "      <td>MA</td>\n",
       "    </tr>\n",
       "    <tr>\n",
       "      <th>12184</th>\n",
       "      <td>15053</td>\n",
       "      <td>2022-06-06 09:52:46</td>\n",
       "      <td>1</td>\n",
       "      <td>25628</td>\n",
       "      <td>MG</td>\n",
       "    </tr>\n",
       "    <tr>\n",
       "      <th>12185</th>\n",
       "      <td>15054</td>\n",
       "      <td>2022-06-06 10:53:47</td>\n",
       "      <td>1</td>\n",
       "      <td>26000</td>\n",
       "      <td>CE</td>\n",
       "    </tr>\n",
       "    <tr>\n",
       "      <th>12186</th>\n",
       "      <td>15055</td>\n",
       "      <td>2022-06-06 19:27:27</td>\n",
       "      <td>1</td>\n",
       "      <td>24765</td>\n",
       "      <td>BA</td>\n",
       "    </tr>\n",
       "    <tr>\n",
       "      <th>12187</th>\n",
       "      <td>15056</td>\n",
       "      <td>2022-06-07 10:42:14</td>\n",
       "      <td>1</td>\n",
       "      <td>26023</td>\n",
       "      <td>PR</td>\n",
       "    </tr>\n",
       "  </tbody>\n",
       "</table>\n",
       "<p>12188 rows × 5 columns</p>\n",
       "</div>"
      ],
      "text/plain": [
       "          id         date_created  country  investor state\n",
       "0          5  2018-08-26 13:09:38        1         7    PE\n",
       "1          6  2018-08-26 22:35:08        1        10    BA\n",
       "2         10  2018-08-30 19:28:27        1        15    BA\n",
       "3         12  2018-09-03 20:41:50        1        16    SE\n",
       "4         13  2018-09-03 21:56:00        1        19    BA\n",
       "...      ...                  ...      ...       ...   ...\n",
       "12183  15052  2022-06-05 07:39:17        1     25576    MA\n",
       "12184  15053  2022-06-06 09:52:46        1     25628    MG\n",
       "12185  15054  2022-06-06 10:53:47        1     26000    CE\n",
       "12186  15055  2022-06-06 19:27:27        1     24765    BA\n",
       "12187  15056  2022-06-07 10:42:14        1     26023    PR\n",
       "\n",
       "[12188 rows x 5 columns]"
      ]
     },
     "execution_count": 21,
     "metadata": {},
     "output_type": "execute_result"
    }
   ],
   "source": [
    "investor_address"
   ]
  },
  {
   "cell_type": "markdown",
   "id": "QxUQOgycTBhU",
   "metadata": {
    "id": "QxUQOgycTBhU"
   },
   "source": [
    "**Observation**\n",
    "\n",
    "- Since all the data is very related to each other, it is likely that by analyzing then together it will be possible to gain more insights"
   ]
  },
  {
   "cell_type": "markdown",
   "id": "e5618780",
   "metadata": {
    "id": "e5618780"
   },
   "source": [
    "## Preprocessing - Pt. 1"
   ]
  },
  {
   "cell_type": "markdown",
   "id": "3826d17f",
   "metadata": {
    "id": "3826d17f"
   },
   "source": [
    "### Investor data"
   ]
  },
  {
   "cell_type": "markdown",
   "id": "2fb2b43f",
   "metadata": {
    "ExecuteTime": {
     "end_time": "2022-06-13T20:09:05.899117Z",
     "start_time": "2022-06-13T20:09:05.891585Z"
    },
    "id": "2fb2b43f"
   },
   "source": [
    "#### Renaming columns"
   ]
  },
  {
   "cell_type": "code",
   "execution_count": 22,
   "id": "c6a1f7bf",
   "metadata": {
    "ExecuteTime": {
     "end_time": "2022-06-20T00:18:22.755508Z",
     "start_time": "2022-06-20T00:18:22.752209Z"
    },
    "executionInfo": {
     "elapsed": 9,
     "status": "ok",
     "timestamp": 1655176794194,
     "user": {
      "displayName": "Leonardo Evangelista Pereira",
      "userId": "15130530526199340986"
     },
     "user_tz": 180
    },
    "id": "c6a1f7bf"
   },
   "outputs": [],
   "source": [
    "investor.rename({'id':'investor_id'}, axis = 1, inplace = True)\n",
    "investor_work.rename({'investor':'investor_id'}, axis = 1, inplace = True)\n",
    "investor_company.rename({'investor':'investor_id'}, axis = 1, inplace = True)\n",
    "investor_address.rename({'investor':'investor_id'}, axis = 1, inplace = True)"
   ]
  },
  {
   "cell_type": "markdown",
   "id": "9378d927",
   "metadata": {
    "id": "9378d927"
   },
   "source": [
    "#### Joining data"
   ]
  },
  {
   "cell_type": "code",
   "execution_count": 23,
   "id": "d2ce4dc8",
   "metadata": {
    "ExecuteTime": {
     "end_time": "2022-06-20T00:18:22.810892Z",
     "start_time": "2022-06-20T00:18:22.756443Z"
    },
    "executionInfo": {
     "elapsed": 10,
     "status": "ok",
     "timestamp": 1655176794195,
     "user": {
      "displayName": "Leonardo Evangelista Pereira",
      "userId": "15130530526199340986"
     },
     "user_tz": 180
    },
    "id": "d2ce4dc8"
   },
   "outputs": [],
   "source": [
    "investor_data = investor.merge(investor_work, on = 'investor_id', how = 'left')\n",
    "investor_data = investor_data.merge(investor_address, on = 'investor_id', how = 'left')"
   ]
  },
  {
   "cell_type": "code",
   "execution_count": 24,
   "id": "43f9f80e",
   "metadata": {
    "ExecuteTime": {
     "end_time": "2022-06-20T00:18:22.828567Z",
     "start_time": "2022-06-20T00:18:22.811732Z"
    },
    "colab": {
     "base_uri": "https://localhost:8080/"
    },
    "executionInfo": {
     "elapsed": 10,
     "status": "ok",
     "timestamp": 1655176794195,
     "user": {
      "displayName": "Leonardo Evangelista Pereira",
      "userId": "15130530526199340986"
     },
     "user_tz": 180
    },
    "id": "43f9f80e",
    "outputId": "a0bc57d4-d6ff-4929-9b69-8336eace5bed"
   },
   "outputs": [
    {
     "name": "stdout",
     "output_type": "stream",
     "text": [
      "<class 'pandas.core.frame.DataFrame'>\n",
      "Int64Index: 22459 entries, 0 to 22458\n",
      "Data columns (total 16 columns):\n",
      " #   Column          Non-Null Count  Dtype  \n",
      "---  ------          --------------  -----  \n",
      " 0   investor_id     22459 non-null  int64  \n",
      " 1   date_created_x  22459 non-null  object \n",
      " 2   birth           12243 non-null  object \n",
      " 3   marital_status  5454 non-null   object \n",
      " 4   gender          12031 non-null  float64\n",
      " 5   investor_type   22459 non-null  object \n",
      " 6   nationality     22459 non-null  object \n",
      " 7   channel         5523 non-null   object \n",
      " 8   id_x            5329 non-null   float64\n",
      " 9   date_created_y  5329 non-null   object \n",
      " 10  office          5260 non-null   object \n",
      " 11  profession      5323 non-null   object \n",
      " 12  id_y            12188 non-null  float64\n",
      " 13  date_created    12188 non-null  object \n",
      " 14  country         12188 non-null  float64\n",
      " 15  state           12187 non-null  object \n",
      "dtypes: float64(4), int64(1), object(11)\n",
      "memory usage: 2.9+ MB\n"
     ]
    }
   ],
   "source": [
    "investor_data.info()"
   ]
  },
  {
   "cell_type": "markdown",
   "id": "25d56b1b",
   "metadata": {
    "id": "25d56b1b"
   },
   "source": [
    "#### Selecting columns and renaming columns"
   ]
  },
  {
   "cell_type": "code",
   "execution_count": 25,
   "id": "5c5a2b28",
   "metadata": {
    "ExecuteTime": {
     "end_time": "2022-06-20T00:18:22.837832Z",
     "start_time": "2022-06-20T00:18:22.829534Z"
    },
    "executionInfo": {
     "elapsed": 486,
     "status": "ok",
     "timestamp": 1655176794674,
     "user": {
      "displayName": "Leonardo Evangelista Pereira",
      "userId": "15130530526199340986"
     },
     "user_tz": 180
    },
    "id": "5c5a2b28"
   },
   "outputs": [],
   "source": [
    "investor_data.drop(columns = ['id_x', 'id_y', 'date_created_y', 'date_created'], inplace = True)\n",
    "investor_data.rename({'date_created_x':'date_created'}, axis = 1, inplace = True)"
   ]
  },
  {
   "cell_type": "markdown",
   "id": "FehZDpbUTxDg",
   "metadata": {
    "id": "FehZDpbUTxDg"
   },
   "source": [
    "#### Investor Data Head"
   ]
  },
  {
   "cell_type": "code",
   "execution_count": 26,
   "id": "20d59634",
   "metadata": {
    "ExecuteTime": {
     "end_time": "2022-06-20T00:18:22.846960Z",
     "start_time": "2022-06-20T00:18:22.838681Z"
    },
    "colab": {
     "base_uri": "https://localhost:8080/",
     "height": 353
    },
    "executionInfo": {
     "elapsed": 4,
     "status": "ok",
     "timestamp": 1655176794674,
     "user": {
      "displayName": "Leonardo Evangelista Pereira",
      "userId": "15130530526199340986"
     },
     "user_tz": 180
    },
    "id": "20d59634",
    "outputId": "842b7142-60ac-4b8e-bc0a-419353797571",
    "scrolled": true
   },
   "outputs": [
    {
     "data": {
      "text/html": [
       "<div>\n",
       "<style scoped>\n",
       "    .dataframe tbody tr th:only-of-type {\n",
       "        vertical-align: middle;\n",
       "    }\n",
       "\n",
       "    .dataframe tbody tr th {\n",
       "        vertical-align: top;\n",
       "    }\n",
       "\n",
       "    .dataframe thead th {\n",
       "        text-align: right;\n",
       "    }\n",
       "</style>\n",
       "<table border=\"1\" class=\"dataframe\">\n",
       "  <thead>\n",
       "    <tr style=\"text-align: right;\">\n",
       "      <th></th>\n",
       "      <th>investor_id</th>\n",
       "      <th>date_created</th>\n",
       "      <th>birth</th>\n",
       "      <th>marital_status</th>\n",
       "      <th>gender</th>\n",
       "      <th>investor_type</th>\n",
       "      <th>nationality</th>\n",
       "      <th>channel</th>\n",
       "      <th>office</th>\n",
       "      <th>profession</th>\n",
       "      <th>country</th>\n",
       "      <th>state</th>\n",
       "    </tr>\n",
       "  </thead>\n",
       "  <tbody>\n",
       "    <tr>\n",
       "      <th>0</th>\n",
       "      <td>1</td>\n",
       "      <td>2018-08-22 18:42:54</td>\n",
       "      <td>1993-04-01</td>\n",
       "      <td>Casado(a)</td>\n",
       "      <td>1.0</td>\n",
       "      <td>pf</td>\n",
       "      <td>brazilian_born</td>\n",
       "      <td>indication</td>\n",
       "      <td>CTO</td>\n",
       "      <td>Empresário</td>\n",
       "      <td>1.0</td>\n",
       "      <td>BA</td>\n",
       "    </tr>\n",
       "    <tr>\n",
       "      <th>1</th>\n",
       "      <td>3</td>\n",
       "      <td>2018-08-23 18:38:25</td>\n",
       "      <td>1982-08-11</td>\n",
       "      <td>Casado(a)</td>\n",
       "      <td>1.0</td>\n",
       "      <td>pf</td>\n",
       "      <td>brazilian_born</td>\n",
       "      <td>NaN</td>\n",
       "      <td>CFO</td>\n",
       "      <td>Administrador</td>\n",
       "      <td>1.0</td>\n",
       "      <td>BA</td>\n",
       "    </tr>\n",
       "    <tr>\n",
       "      <th>2</th>\n",
       "      <td>4</td>\n",
       "      <td>2018-08-25 18:09:51</td>\n",
       "      <td>1983-01-05</td>\n",
       "      <td>Casado(a)</td>\n",
       "      <td>1.0</td>\n",
       "      <td>pf</td>\n",
       "      <td>brazilian_born</td>\n",
       "      <td>NaN</td>\n",
       "      <td>Diretor</td>\n",
       "      <td>Administrador</td>\n",
       "      <td>1.0</td>\n",
       "      <td>BA</td>\n",
       "    </tr>\n",
       "    <tr>\n",
       "      <th>3</th>\n",
       "      <td>5</td>\n",
       "      <td>2018-08-26 07:48:54</td>\n",
       "      <td>NaN</td>\n",
       "      <td>NaN</td>\n",
       "      <td>NaN</td>\n",
       "      <td>pf</td>\n",
       "      <td>brazilian_born</td>\n",
       "      <td>NaN</td>\n",
       "      <td>NaN</td>\n",
       "      <td>NaN</td>\n",
       "      <td>NaN</td>\n",
       "      <td>NaN</td>\n",
       "    </tr>\n",
       "    <tr>\n",
       "      <th>4</th>\n",
       "      <td>6</td>\n",
       "      <td>2018-08-26 10:14:20</td>\n",
       "      <td>1985-07-04</td>\n",
       "      <td>Solteiro(a)</td>\n",
       "      <td>1.0</td>\n",
       "      <td>pf</td>\n",
       "      <td>brazilian_born</td>\n",
       "      <td>NaN</td>\n",
       "      <td>Partner</td>\n",
       "      <td>Empresario</td>\n",
       "      <td>1.0</td>\n",
       "      <td>BA</td>\n",
       "    </tr>\n",
       "  </tbody>\n",
       "</table>\n",
       "</div>"
      ],
      "text/plain": [
       "   investor_id         date_created       birth marital_status  gender  \\\n",
       "0            1  2018-08-22 18:42:54  1993-04-01      Casado(a)     1.0   \n",
       "1            3  2018-08-23 18:38:25  1982-08-11      Casado(a)     1.0   \n",
       "2            4  2018-08-25 18:09:51  1983-01-05      Casado(a)     1.0   \n",
       "3            5  2018-08-26 07:48:54         NaN            NaN     NaN   \n",
       "4            6  2018-08-26 10:14:20  1985-07-04    Solteiro(a)     1.0   \n",
       "\n",
       "  investor_type     nationality     channel   office     profession  country  \\\n",
       "0            pf  brazilian_born  indication      CTO     Empresário      1.0   \n",
       "1            pf  brazilian_born         NaN      CFO  Administrador      1.0   \n",
       "2            pf  brazilian_born         NaN  Diretor  Administrador      1.0   \n",
       "3            pf  brazilian_born         NaN      NaN            NaN      NaN   \n",
       "4            pf  brazilian_born         NaN  Partner    Empresario       1.0   \n",
       "\n",
       "  state  \n",
       "0    BA  \n",
       "1    BA  \n",
       "2    BA  \n",
       "3   NaN  \n",
       "4    BA  "
      ]
     },
     "execution_count": 26,
     "metadata": {},
     "output_type": "execute_result"
    }
   ],
   "source": [
    "investor_data.head()"
   ]
  },
  {
   "cell_type": "markdown",
   "id": "194c4af2",
   "metadata": {},
   "source": [
    "#### Calculating the investor age when he invested"
   ]
  },
  {
   "cell_type": "markdown",
   "id": "91b0d05d",
   "metadata": {},
   "source": [
    "##### Converting to datetime type and creating a new column only with the date"
   ]
  },
  {
   "cell_type": "code",
   "execution_count": 27,
   "id": "836174eb",
   "metadata": {
    "ExecuteTime": {
     "end_time": "2022-06-20T00:18:22.952951Z",
     "start_time": "2022-06-20T00:18:22.847958Z"
    },
    "scrolled": true
   },
   "outputs": [],
   "source": [
    "investor_data['date_created'] = pd.to_datetime(investor_data['date_created'])\n",
    "investor_data['date'] = pd.to_datetime(investor_data['date_created'].dt.strftime('%Y-%m-%d'))\n",
    "investor_data['birth'] = pd.to_datetime(investor_data['birth'], errors = 'coerce')"
   ]
  },
  {
   "cell_type": "code",
   "execution_count": 28,
   "id": "bf78fb96",
   "metadata": {
    "ExecuteTime": {
     "end_time": "2022-06-20T00:18:22.969020Z",
     "start_time": "2022-06-20T00:18:22.957858Z"
    },
    "scrolled": true
   },
   "outputs": [
    {
     "name": "stdout",
     "output_type": "stream",
     "text": [
      "<class 'pandas.core.frame.DataFrame'>\n",
      "Int64Index: 22459 entries, 0 to 22458\n",
      "Data columns (total 13 columns):\n",
      " #   Column          Non-Null Count  Dtype         \n",
      "---  ------          --------------  -----         \n",
      " 0   investor_id     22459 non-null  int64         \n",
      " 1   date_created    22459 non-null  datetime64[ns]\n",
      " 2   birth           12228 non-null  datetime64[ns]\n",
      " 3   marital_status  5454 non-null   object        \n",
      " 4   gender          12031 non-null  float64       \n",
      " 5   investor_type   22459 non-null  object        \n",
      " 6   nationality     22459 non-null  object        \n",
      " 7   channel         5523 non-null   object        \n",
      " 8   office          5260 non-null   object        \n",
      " 9   profession      5323 non-null   object        \n",
      " 10  country         12188 non-null  float64       \n",
      " 11  state           12187 non-null  object        \n",
      " 12  date            22459 non-null  datetime64[ns]\n",
      "dtypes: datetime64[ns](3), float64(2), int64(1), object(7)\n",
      "memory usage: 2.4+ MB\n"
     ]
    }
   ],
   "source": [
    "investor_data.info()"
   ]
  },
  {
   "cell_type": "markdown",
   "id": "fb8e23dc",
   "metadata": {},
   "source": [
    "##### Creating a new variable that represents the age the investor was when he was registered"
   ]
  },
  {
   "cell_type": "code",
   "execution_count": 29,
   "id": "efd14a50",
   "metadata": {
    "ExecuteTime": {
     "end_time": "2022-06-20T00:18:23.347453Z",
     "start_time": "2022-06-20T00:18:22.969873Z"
    }
   },
   "outputs": [],
   "source": [
    "investor_data['age_created'] = round(investor_data.apply(lambda data: ((pd.Timestamp.to_pydatetime(data['date'])) - data['birth']).days/365, axis=1))"
   ]
  },
  {
   "cell_type": "code",
   "execution_count": 30,
   "id": "c7735a5c",
   "metadata": {
    "ExecuteTime": {
     "end_time": "2022-06-20T00:18:23.356632Z",
     "start_time": "2022-06-20T00:18:23.348420Z"
    }
   },
   "outputs": [
    {
     "data": {
      "text/html": [
       "<div>\n",
       "<style scoped>\n",
       "    .dataframe tbody tr th:only-of-type {\n",
       "        vertical-align: middle;\n",
       "    }\n",
       "\n",
       "    .dataframe tbody tr th {\n",
       "        vertical-align: top;\n",
       "    }\n",
       "\n",
       "    .dataframe thead th {\n",
       "        text-align: right;\n",
       "    }\n",
       "</style>\n",
       "<table border=\"1\" class=\"dataframe\">\n",
       "  <thead>\n",
       "    <tr style=\"text-align: right;\">\n",
       "      <th></th>\n",
       "      <th>investor_id</th>\n",
       "      <th>date_created</th>\n",
       "      <th>birth</th>\n",
       "      <th>marital_status</th>\n",
       "      <th>gender</th>\n",
       "      <th>investor_type</th>\n",
       "      <th>nationality</th>\n",
       "      <th>channel</th>\n",
       "      <th>office</th>\n",
       "      <th>profession</th>\n",
       "      <th>country</th>\n",
       "      <th>state</th>\n",
       "      <th>date</th>\n",
       "      <th>age_created</th>\n",
       "    </tr>\n",
       "  </thead>\n",
       "  <tbody>\n",
       "    <tr>\n",
       "      <th>0</th>\n",
       "      <td>1</td>\n",
       "      <td>2018-08-22 18:42:54</td>\n",
       "      <td>1993-04-01</td>\n",
       "      <td>Casado(a)</td>\n",
       "      <td>1.0</td>\n",
       "      <td>pf</td>\n",
       "      <td>brazilian_born</td>\n",
       "      <td>indication</td>\n",
       "      <td>CTO</td>\n",
       "      <td>Empresário</td>\n",
       "      <td>1.0</td>\n",
       "      <td>BA</td>\n",
       "      <td>2018-08-22</td>\n",
       "      <td>25.0</td>\n",
       "    </tr>\n",
       "    <tr>\n",
       "      <th>1</th>\n",
       "      <td>3</td>\n",
       "      <td>2018-08-23 18:38:25</td>\n",
       "      <td>1982-08-11</td>\n",
       "      <td>Casado(a)</td>\n",
       "      <td>1.0</td>\n",
       "      <td>pf</td>\n",
       "      <td>brazilian_born</td>\n",
       "      <td>NaN</td>\n",
       "      <td>CFO</td>\n",
       "      <td>Administrador</td>\n",
       "      <td>1.0</td>\n",
       "      <td>BA</td>\n",
       "      <td>2018-08-23</td>\n",
       "      <td>36.0</td>\n",
       "    </tr>\n",
       "    <tr>\n",
       "      <th>2</th>\n",
       "      <td>4</td>\n",
       "      <td>2018-08-25 18:09:51</td>\n",
       "      <td>1983-01-05</td>\n",
       "      <td>Casado(a)</td>\n",
       "      <td>1.0</td>\n",
       "      <td>pf</td>\n",
       "      <td>brazilian_born</td>\n",
       "      <td>NaN</td>\n",
       "      <td>Diretor</td>\n",
       "      <td>Administrador</td>\n",
       "      <td>1.0</td>\n",
       "      <td>BA</td>\n",
       "      <td>2018-08-25</td>\n",
       "      <td>36.0</td>\n",
       "    </tr>\n",
       "    <tr>\n",
       "      <th>3</th>\n",
       "      <td>5</td>\n",
       "      <td>2018-08-26 07:48:54</td>\n",
       "      <td>NaT</td>\n",
       "      <td>NaN</td>\n",
       "      <td>NaN</td>\n",
       "      <td>pf</td>\n",
       "      <td>brazilian_born</td>\n",
       "      <td>NaN</td>\n",
       "      <td>NaN</td>\n",
       "      <td>NaN</td>\n",
       "      <td>NaN</td>\n",
       "      <td>NaN</td>\n",
       "      <td>2018-08-26</td>\n",
       "      <td>NaN</td>\n",
       "    </tr>\n",
       "    <tr>\n",
       "      <th>4</th>\n",
       "      <td>6</td>\n",
       "      <td>2018-08-26 10:14:20</td>\n",
       "      <td>1985-07-04</td>\n",
       "      <td>Solteiro(a)</td>\n",
       "      <td>1.0</td>\n",
       "      <td>pf</td>\n",
       "      <td>brazilian_born</td>\n",
       "      <td>NaN</td>\n",
       "      <td>Partner</td>\n",
       "      <td>Empresario</td>\n",
       "      <td>1.0</td>\n",
       "      <td>BA</td>\n",
       "      <td>2018-08-26</td>\n",
       "      <td>33.0</td>\n",
       "    </tr>\n",
       "  </tbody>\n",
       "</table>\n",
       "</div>"
      ],
      "text/plain": [
       "   investor_id        date_created      birth marital_status  gender  \\\n",
       "0            1 2018-08-22 18:42:54 1993-04-01      Casado(a)     1.0   \n",
       "1            3 2018-08-23 18:38:25 1982-08-11      Casado(a)     1.0   \n",
       "2            4 2018-08-25 18:09:51 1983-01-05      Casado(a)     1.0   \n",
       "3            5 2018-08-26 07:48:54        NaT            NaN     NaN   \n",
       "4            6 2018-08-26 10:14:20 1985-07-04    Solteiro(a)     1.0   \n",
       "\n",
       "  investor_type     nationality     channel   office     profession  country  \\\n",
       "0            pf  brazilian_born  indication      CTO     Empresário      1.0   \n",
       "1            pf  brazilian_born         NaN      CFO  Administrador      1.0   \n",
       "2            pf  brazilian_born         NaN  Diretor  Administrador      1.0   \n",
       "3            pf  brazilian_born         NaN      NaN            NaN      NaN   \n",
       "4            pf  brazilian_born         NaN  Partner    Empresario       1.0   \n",
       "\n",
       "  state       date  age_created  \n",
       "0    BA 2018-08-22         25.0  \n",
       "1    BA 2018-08-23         36.0  \n",
       "2    BA 2018-08-25         36.0  \n",
       "3   NaN 2018-08-26          NaN  \n",
       "4    BA 2018-08-26         33.0  "
      ]
     },
     "execution_count": 30,
     "metadata": {},
     "output_type": "execute_result"
    }
   ],
   "source": [
    "investor_data.head()"
   ]
  },
  {
   "cell_type": "code",
   "execution_count": 31,
   "id": "88f54c8d",
   "metadata": {
    "ExecuteTime": {
     "end_time": "2022-06-20T00:18:23.361407Z",
     "start_time": "2022-06-20T00:18:23.357591Z"
    }
   },
   "outputs": [],
   "source": [
    "investor_data.drop(columns = ['date_created'], axis = 1, inplace =  True)"
   ]
  },
  {
   "cell_type": "code",
   "execution_count": 32,
   "id": "824364d2",
   "metadata": {
    "ExecuteTime": {
     "end_time": "2022-06-20T00:18:23.372844Z",
     "start_time": "2022-06-20T00:18:23.362349Z"
    }
   },
   "outputs": [
    {
     "name": "stdout",
     "output_type": "stream",
     "text": [
      "<class 'pandas.core.frame.DataFrame'>\n",
      "Int64Index: 22459 entries, 0 to 22458\n",
      "Data columns (total 13 columns):\n",
      " #   Column          Non-Null Count  Dtype         \n",
      "---  ------          --------------  -----         \n",
      " 0   investor_id     22459 non-null  int64         \n",
      " 1   birth           12228 non-null  datetime64[ns]\n",
      " 2   marital_status  5454 non-null   object        \n",
      " 3   gender          12031 non-null  float64       \n",
      " 4   investor_type   22459 non-null  object        \n",
      " 5   nationality     22459 non-null  object        \n",
      " 6   channel         5523 non-null   object        \n",
      " 7   office          5260 non-null   object        \n",
      " 8   profession      5323 non-null   object        \n",
      " 9   country         12188 non-null  float64       \n",
      " 10  state           12187 non-null  object        \n",
      " 11  date            22459 non-null  datetime64[ns]\n",
      " 12  age_created     12228 non-null  float64       \n",
      "dtypes: datetime64[ns](2), float64(3), int64(1), object(7)\n",
      "memory usage: 2.4+ MB\n"
     ]
    }
   ],
   "source": [
    "investor_data.info()"
   ]
  },
  {
   "cell_type": "markdown",
   "id": "46b2f29e",
   "metadata": {},
   "source": [
    "#### Changing data types"
   ]
  },
  {
   "cell_type": "code",
   "execution_count": 33,
   "id": "251a662d",
   "metadata": {
    "ExecuteTime": {
     "end_time": "2022-06-20T00:18:23.407965Z",
     "start_time": "2022-06-20T00:18:23.373652Z"
    }
   },
   "outputs": [],
   "source": [
    "investor_data['gender'] = investor_data['gender'].astype(str)\n",
    "investor_data['country'] = investor_data['country'].astype(str)\n",
    "investor_data['investor_id'] = investor_data['investor_id'].astype(str)"
   ]
  },
  {
   "cell_type": "markdown",
   "id": "hckaaTmGT7cV",
   "metadata": {
    "id": "hckaaTmGT7cV"
   },
   "source": [
    "### Investment Data"
   ]
  },
  {
   "cell_type": "markdown",
   "id": "BqfIPJQ4UnoO",
   "metadata": {
    "id": "BqfIPJQ4UnoO"
   },
   "source": [
    "#### Basic Info"
   ]
  },
  {
   "cell_type": "code",
   "execution_count": 34,
   "id": "6bb20b03",
   "metadata": {
    "ExecuteTime": {
     "end_time": "2022-06-20T00:18:23.414714Z",
     "start_time": "2022-06-20T00:18:23.408717Z"
    },
    "colab": {
     "base_uri": "https://localhost:8080/"
    },
    "executionInfo": {
     "elapsed": 667,
     "status": "ok",
     "timestamp": 1655178413642,
     "user": {
      "displayName": "Leonardo Evangelista Pereira",
      "userId": "15130530526199340986"
     },
     "user_tz": 180
    },
    "id": "6bb20b03",
    "outputId": "acce7036-d43a-4156-c2f4-3d4469219a54"
   },
   "outputs": [
    {
     "name": "stdout",
     "output_type": "stream",
     "text": [
      "<class 'pandas.core.frame.DataFrame'>\n",
      "RangeIndex: 9123 entries, 0 to 9122\n",
      "Data columns (total 6 columns):\n",
      " #   Column        Non-Null Count  Dtype \n",
      "---  ------        --------------  ----- \n",
      " 0   id            9123 non-null   int64 \n",
      " 1   date_created  9123 non-null   object\n",
      " 2   anonymous     9123 non-null   int64 \n",
      " 3   investor      9123 non-null   int64 \n",
      " 4   project       9123 non-null   int64 \n",
      " 5   value         9123 non-null   int64 \n",
      "dtypes: int64(5), object(1)\n",
      "memory usage: 427.8+ KB\n"
     ]
    }
   ],
   "source": [
    "investment.info()"
   ]
  },
  {
   "cell_type": "code",
   "execution_count": 35,
   "id": "C3kwsDVBUjyf",
   "metadata": {
    "ExecuteTime": {
     "end_time": "2022-06-20T00:18:23.420579Z",
     "start_time": "2022-06-20T00:18:23.415487Z"
    },
    "colab": {
     "base_uri": "https://localhost:8080/",
     "height": 204
    },
    "executionInfo": {
     "elapsed": 438,
     "status": "ok",
     "timestamp": 1655178442917,
     "user": {
      "displayName": "Leonardo Evangelista Pereira",
      "userId": "15130530526199340986"
     },
     "user_tz": 180
    },
    "id": "C3kwsDVBUjyf",
    "outputId": "73d6255b-c27f-482f-d1f4-650e762f8619"
   },
   "outputs": [
    {
     "data": {
      "text/html": [
       "<div>\n",
       "<style scoped>\n",
       "    .dataframe tbody tr th:only-of-type {\n",
       "        vertical-align: middle;\n",
       "    }\n",
       "\n",
       "    .dataframe tbody tr th {\n",
       "        vertical-align: top;\n",
       "    }\n",
       "\n",
       "    .dataframe thead th {\n",
       "        text-align: right;\n",
       "    }\n",
       "</style>\n",
       "<table border=\"1\" class=\"dataframe\">\n",
       "  <thead>\n",
       "    <tr style=\"text-align: right;\">\n",
       "      <th></th>\n",
       "      <th>id</th>\n",
       "      <th>date_created</th>\n",
       "      <th>anonymous</th>\n",
       "      <th>investor</th>\n",
       "      <th>project</th>\n",
       "      <th>value</th>\n",
       "    </tr>\n",
       "  </thead>\n",
       "  <tbody>\n",
       "    <tr>\n",
       "      <th>0</th>\n",
       "      <td>19</td>\n",
       "      <td>2018-09-03 11:58:17</td>\n",
       "      <td>0</td>\n",
       "      <td>3</td>\n",
       "      <td>1</td>\n",
       "      <td>1000</td>\n",
       "    </tr>\n",
       "    <tr>\n",
       "      <th>1</th>\n",
       "      <td>20</td>\n",
       "      <td>2018-09-03 20:43:34</td>\n",
       "      <td>0</td>\n",
       "      <td>16</td>\n",
       "      <td>1</td>\n",
       "      <td>81000</td>\n",
       "    </tr>\n",
       "    <tr>\n",
       "      <th>2</th>\n",
       "      <td>21</td>\n",
       "      <td>2018-09-03 21:15:45</td>\n",
       "      <td>0</td>\n",
       "      <td>6</td>\n",
       "      <td>1</td>\n",
       "      <td>15000</td>\n",
       "    </tr>\n",
       "    <tr>\n",
       "      <th>3</th>\n",
       "      <td>26</td>\n",
       "      <td>2018-09-06 11:38:37</td>\n",
       "      <td>0</td>\n",
       "      <td>11</td>\n",
       "      <td>1</td>\n",
       "      <td>10000</td>\n",
       "    </tr>\n",
       "    <tr>\n",
       "      <th>4</th>\n",
       "      <td>28</td>\n",
       "      <td>2018-09-06 13:53:35</td>\n",
       "      <td>1</td>\n",
       "      <td>34</td>\n",
       "      <td>1</td>\n",
       "      <td>5000</td>\n",
       "    </tr>\n",
       "  </tbody>\n",
       "</table>\n",
       "</div>"
      ],
      "text/plain": [
       "   id         date_created  anonymous  investor  project  value\n",
       "0  19  2018-09-03 11:58:17          0         3        1   1000\n",
       "1  20  2018-09-03 20:43:34          0        16        1  81000\n",
       "2  21  2018-09-03 21:15:45          0         6        1  15000\n",
       "3  26  2018-09-06 11:38:37          0        11        1  10000\n",
       "4  28  2018-09-06 13:53:35          1        34        1   5000"
      ]
     },
     "execution_count": 35,
     "metadata": {},
     "output_type": "execute_result"
    }
   ],
   "source": [
    "investment.head()"
   ]
  },
  {
   "cell_type": "markdown",
   "id": "u0CWxuCvWFmx",
   "metadata": {
    "id": "u0CWxuCvWFmx"
   },
   "source": [
    "#### Changing data types"
   ]
  },
  {
   "cell_type": "code",
   "execution_count": 36,
   "id": "YsmrU0hoUrR2",
   "metadata": {
    "ExecuteTime": {
     "end_time": "2022-06-20T00:18:23.483498Z",
     "start_time": "2022-06-20T00:18:23.421561Z"
    },
    "executionInfo": {
     "elapsed": 5,
     "status": "ok",
     "timestamp": 1655178846582,
     "user": {
      "displayName": "Leonardo Evangelista Pereira",
      "userId": "15130530526199340986"
     },
     "user_tz": 180
    },
    "id": "YsmrU0hoUrR2"
   },
   "outputs": [],
   "source": [
    "investment['project'] = investment['project'].astype(str)\n",
    "investment['investor'] = investment['investor'].astype(str)\n",
    "investment['anonymous'] = investment['anonymous'].astype(str)\n",
    "investment['id'] = investment['id'].astype(str)\n",
    "investment['date_created'] = pd.to_datetime(investment['date_created'])\n",
    "investment['date_created'] = pd.to_datetime(investment['date_created'].dt.strftime('%Y-%m-%d'))"
   ]
  },
  {
   "cell_type": "code",
   "execution_count": 37,
   "id": "TcnEkHjXVujL",
   "metadata": {
    "ExecuteTime": {
     "end_time": "2022-06-20T00:18:23.491657Z",
     "start_time": "2022-06-20T00:18:23.484453Z"
    },
    "colab": {
     "base_uri": "https://localhost:8080/"
    },
    "executionInfo": {
     "elapsed": 525,
     "status": "ok",
     "timestamp": 1655178849402,
     "user": {
      "displayName": "Leonardo Evangelista Pereira",
      "userId": "15130530526199340986"
     },
     "user_tz": 180
    },
    "id": "TcnEkHjXVujL",
    "outputId": "a6eece22-7f91-41f0-f903-5d82385de402"
   },
   "outputs": [
    {
     "name": "stdout",
     "output_type": "stream",
     "text": [
      "<class 'pandas.core.frame.DataFrame'>\n",
      "RangeIndex: 9123 entries, 0 to 9122\n",
      "Data columns (total 6 columns):\n",
      " #   Column        Non-Null Count  Dtype         \n",
      "---  ------        --------------  -----         \n",
      " 0   id            9123 non-null   object        \n",
      " 1   date_created  9123 non-null   datetime64[ns]\n",
      " 2   anonymous     9123 non-null   object        \n",
      " 3   investor      9123 non-null   object        \n",
      " 4   project       9123 non-null   object        \n",
      " 5   value         9123 non-null   int64         \n",
      "dtypes: datetime64[ns](1), int64(1), object(4)\n",
      "memory usage: 427.8+ KB\n"
     ]
    }
   ],
   "source": [
    "investment.info()"
   ]
  },
  {
   "cell_type": "markdown",
   "id": "e944d2f7",
   "metadata": {
    "ExecuteTime": {
     "end_time": "2022-06-14T14:18:00.154983Z",
     "start_time": "2022-06-14T14:18:00.151387Z"
    }
   },
   "source": [
    "### Project Data"
   ]
  },
  {
   "cell_type": "markdown",
   "id": "9f00f4b5",
   "metadata": {},
   "source": [
    "#### Basic Info"
   ]
  },
  {
   "cell_type": "code",
   "execution_count": 38,
   "id": "2f6d6a3c",
   "metadata": {
    "ExecuteTime": {
     "end_time": "2022-06-20T00:18:23.498709Z",
     "start_time": "2022-06-20T00:18:23.492527Z"
    }
   },
   "outputs": [
    {
     "name": "stdout",
     "output_type": "stream",
     "text": [
      "<class 'pandas.core.frame.DataFrame'>\n",
      "RangeIndex: 60 entries, 0 to 59\n",
      "Data columns (total 9 columns):\n",
      " #   Column            Non-Null Count  Dtype \n",
      "---  ------            --------------  ----- \n",
      " 0   id                60 non-null     int64 \n",
      " 1   date_created      60 non-null     object\n",
      " 2   validity          60 non-null     object\n",
      " 3   value             60 non-null     int64 \n",
      " 4   project_category  60 non-null     int64 \n",
      " 5   closed            60 non-null     object\n",
      " 6   date_open         60 non-null     object\n",
      " 7   modality          60 non-null     int64 \n",
      " 8   target            60 non-null     int64 \n",
      "dtypes: int64(5), object(4)\n",
      "memory usage: 4.3+ KB\n"
     ]
    }
   ],
   "source": [
    "project.info()"
   ]
  },
  {
   "cell_type": "code",
   "execution_count": 39,
   "id": "e2979c06",
   "metadata": {
    "ExecuteTime": {
     "end_time": "2022-06-20T00:18:23.505516Z",
     "start_time": "2022-06-20T00:18:23.499617Z"
    }
   },
   "outputs": [
    {
     "data": {
      "text/html": [
       "<div>\n",
       "<style scoped>\n",
       "    .dataframe tbody tr th:only-of-type {\n",
       "        vertical-align: middle;\n",
       "    }\n",
       "\n",
       "    .dataframe tbody tr th {\n",
       "        vertical-align: top;\n",
       "    }\n",
       "\n",
       "    .dataframe thead th {\n",
       "        text-align: right;\n",
       "    }\n",
       "</style>\n",
       "<table border=\"1\" class=\"dataframe\">\n",
       "  <thead>\n",
       "    <tr style=\"text-align: right;\">\n",
       "      <th></th>\n",
       "      <th>id</th>\n",
       "      <th>date_created</th>\n",
       "      <th>validity</th>\n",
       "      <th>value</th>\n",
       "      <th>project_category</th>\n",
       "      <th>closed</th>\n",
       "      <th>date_open</th>\n",
       "      <th>modality</th>\n",
       "      <th>target</th>\n",
       "    </tr>\n",
       "  </thead>\n",
       "  <tbody>\n",
       "    <tr>\n",
       "      <th>0</th>\n",
       "      <td>1</td>\n",
       "      <td>2018-08-23 18:15:21</td>\n",
       "      <td>2018-10-31 00:00:00</td>\n",
       "      <td>750000</td>\n",
       "      <td>1</td>\n",
       "      <td>2018-11-01</td>\n",
       "      <td>2018-10-01 08:00:00</td>\n",
       "      <td>1</td>\n",
       "      <td>500000</td>\n",
       "    </tr>\n",
       "    <tr>\n",
       "      <th>1</th>\n",
       "      <td>4</td>\n",
       "      <td>2018-12-17 20:45:31</td>\n",
       "      <td>2019-02-28 00:00:00</td>\n",
       "      <td>750000</td>\n",
       "      <td>1</td>\n",
       "      <td>2019-03-10</td>\n",
       "      <td>2019-02-10 08:00:00</td>\n",
       "      <td>1</td>\n",
       "      <td>500000</td>\n",
       "    </tr>\n",
       "    <tr>\n",
       "      <th>2</th>\n",
       "      <td>5</td>\n",
       "      <td>2019-04-20 13:38:57</td>\n",
       "      <td>2019-06-14 00:00:00</td>\n",
       "      <td>1020000</td>\n",
       "      <td>1</td>\n",
       "      <td>2019-06-15</td>\n",
       "      <td>2019-05-15 08:00:00</td>\n",
       "      <td>1</td>\n",
       "      <td>680000</td>\n",
       "    </tr>\n",
       "    <tr>\n",
       "      <th>3</th>\n",
       "      <td>6</td>\n",
       "      <td>2019-07-29 17:26:33</td>\n",
       "      <td>2019-09-04 00:00:00</td>\n",
       "      <td>1200000</td>\n",
       "      <td>5</td>\n",
       "      <td>2019-08-19</td>\n",
       "      <td>2019-08-05 08:00:00</td>\n",
       "      <td>1</td>\n",
       "      <td>800000</td>\n",
       "    </tr>\n",
       "    <tr>\n",
       "      <th>4</th>\n",
       "      <td>7</td>\n",
       "      <td>2019-09-10 12:00:00</td>\n",
       "      <td>2019-10-15 23:59:00</td>\n",
       "      <td>810000</td>\n",
       "      <td>2</td>\n",
       "      <td>2019-09-27</td>\n",
       "      <td>2019-09-16 18:00:00</td>\n",
       "      <td>1</td>\n",
       "      <td>540000</td>\n",
       "    </tr>\n",
       "  </tbody>\n",
       "</table>\n",
       "</div>"
      ],
      "text/plain": [
       "   id         date_created             validity    value  project_category  \\\n",
       "0   1  2018-08-23 18:15:21  2018-10-31 00:00:00   750000                 1   \n",
       "1   4  2018-12-17 20:45:31  2019-02-28 00:00:00   750000                 1   \n",
       "2   5  2019-04-20 13:38:57  2019-06-14 00:00:00  1020000                 1   \n",
       "3   6  2019-07-29 17:26:33  2019-09-04 00:00:00  1200000                 5   \n",
       "4   7  2019-09-10 12:00:00  2019-10-15 23:59:00   810000                 2   \n",
       "\n",
       "       closed            date_open  modality  target  \n",
       "0  2018-11-01  2018-10-01 08:00:00         1  500000  \n",
       "1  2019-03-10  2019-02-10 08:00:00         1  500000  \n",
       "2  2019-06-15  2019-05-15 08:00:00         1  680000  \n",
       "3  2019-08-19  2019-08-05 08:00:00         1  800000  \n",
       "4  2019-09-27  2019-09-16 18:00:00         1  540000  "
      ]
     },
     "execution_count": 39,
     "metadata": {},
     "output_type": "execute_result"
    }
   ],
   "source": [
    "project.head()"
   ]
  },
  {
   "cell_type": "markdown",
   "id": "6d376fad",
   "metadata": {},
   "source": [
    "#### Changing data types"
   ]
  },
  {
   "cell_type": "code",
   "execution_count": 40,
   "id": "b4c6bc74",
   "metadata": {
    "ExecuteTime": {
     "end_time": "2022-06-20T00:18:23.512319Z",
     "start_time": "2022-06-20T00:18:23.506498Z"
    }
   },
   "outputs": [],
   "source": [
    "project['date_created'] = pd.to_datetime(project['date_created'])\n",
    "project['date_created'] = pd.to_datetime(project['date_created'].dt.strftime('%Y-%m-%d'))\n",
    "project['closed'] = pd.to_datetime(project['closed'])\n",
    "project['validity'] = pd.to_datetime(project['validity'])\n",
    "project['date_open'] = pd.to_datetime(project['date_open'])\n",
    "\n",
    "project['project_category'] = project['project_category'].astype(str)\n",
    "project['modality'] = project['modality'].astype(str)\n",
    "project['id'] = project['id'].astype(str)"
   ]
  },
  {
   "cell_type": "code",
   "execution_count": 41,
   "id": "c0647006",
   "metadata": {
    "ExecuteTime": {
     "end_time": "2022-06-20T00:18:23.518873Z",
     "start_time": "2022-06-20T00:18:23.513281Z"
    }
   },
   "outputs": [
    {
     "name": "stdout",
     "output_type": "stream",
     "text": [
      "<class 'pandas.core.frame.DataFrame'>\n",
      "RangeIndex: 60 entries, 0 to 59\n",
      "Data columns (total 9 columns):\n",
      " #   Column            Non-Null Count  Dtype         \n",
      "---  ------            --------------  -----         \n",
      " 0   id                60 non-null     object        \n",
      " 1   date_created      60 non-null     datetime64[ns]\n",
      " 2   validity          60 non-null     datetime64[ns]\n",
      " 3   value             60 non-null     int64         \n",
      " 4   project_category  60 non-null     object        \n",
      " 5   closed            60 non-null     datetime64[ns]\n",
      " 6   date_open         60 non-null     datetime64[ns]\n",
      " 7   modality          60 non-null     object        \n",
      " 8   target            60 non-null     int64         \n",
      "dtypes: datetime64[ns](4), int64(2), object(3)\n",
      "memory usage: 4.3+ KB\n"
     ]
    }
   ],
   "source": [
    "project.info()"
   ]
  },
  {
   "cell_type": "code",
   "execution_count": 42,
   "id": "d1cc123b",
   "metadata": {
    "ExecuteTime": {
     "end_time": "2022-06-20T00:18:23.522176Z",
     "start_time": "2022-06-20T00:18:23.519705Z"
    }
   },
   "outputs": [],
   "source": [
    "project_category.drop(columns = ['date_created'], axis = 1, inplace = True)"
   ]
  },
  {
   "cell_type": "markdown",
   "id": "08c8a44a",
   "metadata": {
    "ExecuteTime": {
     "end_time": "2022-06-14T13:23:41.777556Z",
     "start_time": "2022-06-14T13:23:41.769424Z"
    },
    "id": "YeEnrhGHWBoP"
   },
   "source": [
    "## Exploratory Data Analysis - Pt. 2\n",
    "------\n",
    "\n",
    "***Summary of what has been done so far:***\n",
    "- Initial EDA to find out basic info about the datasets\n",
    "- Data Preprocessing;\n",
    "- Data Manipulation;\n",
    "- Data Cleaning;\n",
    "- Creation of a unique dataset regarding the investor;\n",
    "- Selection and creation of new variables;\n",
    "\n",
    "------------\n",
    "\n",
    "From here on, the analysis will be more focused on gaining insights and important information about the investors and the market.\n",
    "\n",
    "**To guide the analysis, some questions were defined to be answered**\n",
    "- What are the offices of the people who invest the most?\n",
    "- From which channels customers most often come?\n",
    "- When the client comes through someone else's indication, in a certain way, it generates a greater confidence of the client in the company. Therefore, does this trust influence the amount invested?\n",
    "- Which project categories are usually the most invested in?\n",
    "- At what age do clients usually start investing with the company? Does it influence the amount that is invested?"
   ]
  },
  {
   "cell_type": "markdown",
   "id": "2a8bd4b1",
   "metadata": {},
   "source": [
    "### Investor Data"
   ]
  },
  {
   "cell_type": "markdown",
   "id": "f0e4bee5",
   "metadata": {},
   "source": [
    "#### Basic Info"
   ]
  },
  {
   "cell_type": "code",
   "execution_count": 43,
   "id": "d42e9013",
   "metadata": {
    "ExecuteTime": {
     "end_time": "2022-06-20T00:18:23.530825Z",
     "start_time": "2022-06-20T00:18:23.523206Z"
    },
    "scrolled": true
   },
   "outputs": [
    {
     "data": {
      "text/html": [
       "<div>\n",
       "<style scoped>\n",
       "    .dataframe tbody tr th:only-of-type {\n",
       "        vertical-align: middle;\n",
       "    }\n",
       "\n",
       "    .dataframe tbody tr th {\n",
       "        vertical-align: top;\n",
       "    }\n",
       "\n",
       "    .dataframe thead th {\n",
       "        text-align: right;\n",
       "    }\n",
       "</style>\n",
       "<table border=\"1\" class=\"dataframe\">\n",
       "  <thead>\n",
       "    <tr style=\"text-align: right;\">\n",
       "      <th></th>\n",
       "      <th>investor_id</th>\n",
       "      <th>birth</th>\n",
       "      <th>marital_status</th>\n",
       "      <th>gender</th>\n",
       "      <th>investor_type</th>\n",
       "      <th>nationality</th>\n",
       "      <th>channel</th>\n",
       "      <th>office</th>\n",
       "      <th>profession</th>\n",
       "      <th>country</th>\n",
       "      <th>state</th>\n",
       "      <th>date</th>\n",
       "      <th>age_created</th>\n",
       "    </tr>\n",
       "  </thead>\n",
       "  <tbody>\n",
       "    <tr>\n",
       "      <th>0</th>\n",
       "      <td>1</td>\n",
       "      <td>1993-04-01</td>\n",
       "      <td>Casado(a)</td>\n",
       "      <td>1.0</td>\n",
       "      <td>pf</td>\n",
       "      <td>brazilian_born</td>\n",
       "      <td>indication</td>\n",
       "      <td>CTO</td>\n",
       "      <td>Empresário</td>\n",
       "      <td>1.0</td>\n",
       "      <td>BA</td>\n",
       "      <td>2018-08-22</td>\n",
       "      <td>25.0</td>\n",
       "    </tr>\n",
       "    <tr>\n",
       "      <th>1</th>\n",
       "      <td>3</td>\n",
       "      <td>1982-08-11</td>\n",
       "      <td>Casado(a)</td>\n",
       "      <td>1.0</td>\n",
       "      <td>pf</td>\n",
       "      <td>brazilian_born</td>\n",
       "      <td>NaN</td>\n",
       "      <td>CFO</td>\n",
       "      <td>Administrador</td>\n",
       "      <td>1.0</td>\n",
       "      <td>BA</td>\n",
       "      <td>2018-08-23</td>\n",
       "      <td>36.0</td>\n",
       "    </tr>\n",
       "    <tr>\n",
       "      <th>2</th>\n",
       "      <td>4</td>\n",
       "      <td>1983-01-05</td>\n",
       "      <td>Casado(a)</td>\n",
       "      <td>1.0</td>\n",
       "      <td>pf</td>\n",
       "      <td>brazilian_born</td>\n",
       "      <td>NaN</td>\n",
       "      <td>Diretor</td>\n",
       "      <td>Administrador</td>\n",
       "      <td>1.0</td>\n",
       "      <td>BA</td>\n",
       "      <td>2018-08-25</td>\n",
       "      <td>36.0</td>\n",
       "    </tr>\n",
       "    <tr>\n",
       "      <th>3</th>\n",
       "      <td>5</td>\n",
       "      <td>NaT</td>\n",
       "      <td>NaN</td>\n",
       "      <td>nan</td>\n",
       "      <td>pf</td>\n",
       "      <td>brazilian_born</td>\n",
       "      <td>NaN</td>\n",
       "      <td>NaN</td>\n",
       "      <td>NaN</td>\n",
       "      <td>nan</td>\n",
       "      <td>NaN</td>\n",
       "      <td>2018-08-26</td>\n",
       "      <td>NaN</td>\n",
       "    </tr>\n",
       "    <tr>\n",
       "      <th>4</th>\n",
       "      <td>6</td>\n",
       "      <td>1985-07-04</td>\n",
       "      <td>Solteiro(a)</td>\n",
       "      <td>1.0</td>\n",
       "      <td>pf</td>\n",
       "      <td>brazilian_born</td>\n",
       "      <td>NaN</td>\n",
       "      <td>Partner</td>\n",
       "      <td>Empresario</td>\n",
       "      <td>1.0</td>\n",
       "      <td>BA</td>\n",
       "      <td>2018-08-26</td>\n",
       "      <td>33.0</td>\n",
       "    </tr>\n",
       "  </tbody>\n",
       "</table>\n",
       "</div>"
      ],
      "text/plain": [
       "  investor_id      birth marital_status gender investor_type     nationality  \\\n",
       "0           1 1993-04-01      Casado(a)    1.0            pf  brazilian_born   \n",
       "1           3 1982-08-11      Casado(a)    1.0            pf  brazilian_born   \n",
       "2           4 1983-01-05      Casado(a)    1.0            pf  brazilian_born   \n",
       "3           5        NaT            NaN    nan            pf  brazilian_born   \n",
       "4           6 1985-07-04    Solteiro(a)    1.0            pf  brazilian_born   \n",
       "\n",
       "      channel   office     profession country state       date  age_created  \n",
       "0  indication      CTO     Empresário     1.0    BA 2018-08-22         25.0  \n",
       "1         NaN      CFO  Administrador     1.0    BA 2018-08-23         36.0  \n",
       "2         NaN  Diretor  Administrador     1.0    BA 2018-08-25         36.0  \n",
       "3         NaN      NaN            NaN     nan   NaN 2018-08-26          NaN  \n",
       "4         NaN  Partner    Empresario      1.0    BA 2018-08-26         33.0  "
      ]
     },
     "execution_count": 43,
     "metadata": {},
     "output_type": "execute_result"
    }
   ],
   "source": [
    "investor_data.head()"
   ]
  },
  {
   "cell_type": "code",
   "execution_count": 44,
   "id": "e0a8a3a6",
   "metadata": {
    "ExecuteTime": {
     "end_time": "2022-06-20T00:18:23.546126Z",
     "start_time": "2022-06-20T00:18:23.531632Z"
    }
   },
   "outputs": [
    {
     "name": "stdout",
     "output_type": "stream",
     "text": [
      "<class 'pandas.core.frame.DataFrame'>\n",
      "Int64Index: 22459 entries, 0 to 22458\n",
      "Data columns (total 13 columns):\n",
      " #   Column          Non-Null Count  Dtype         \n",
      "---  ------          --------------  -----         \n",
      " 0   investor_id     22459 non-null  object        \n",
      " 1   birth           12228 non-null  datetime64[ns]\n",
      " 2   marital_status  5454 non-null   object        \n",
      " 3   gender          22459 non-null  object        \n",
      " 4   investor_type   22459 non-null  object        \n",
      " 5   nationality     22459 non-null  object        \n",
      " 6   channel         5523 non-null   object        \n",
      " 7   office          5260 non-null   object        \n",
      " 8   profession      5323 non-null   object        \n",
      " 9   country         22459 non-null  object        \n",
      " 10  state           12187 non-null  object        \n",
      " 11  date            22459 non-null  datetime64[ns]\n",
      " 12  age_created     12228 non-null  float64       \n",
      "dtypes: datetime64[ns](2), float64(1), object(10)\n",
      "memory usage: 2.4+ MB\n"
     ]
    }
   ],
   "source": [
    "investor_data.info()"
   ]
  },
  {
   "cell_type": "markdown",
   "id": "61b627cd",
   "metadata": {},
   "source": [
    "#### Data Analysis"
   ]
  },
  {
   "cell_type": "markdown",
   "id": "a20104b4",
   "metadata": {
    "heading_collapsed": true
   },
   "source": [
    "##### Separating columns by data type so that they can be better analyzed"
   ]
  },
  {
   "cell_type": "code",
   "execution_count": 45,
   "id": "4a40bafe",
   "metadata": {
    "ExecuteTime": {
     "end_time": "2022-06-20T00:18:23.550364Z",
     "start_time": "2022-06-20T00:18:23.547236Z"
    },
    "hidden": true
   },
   "outputs": [],
   "source": [
    "cols = []\n",
    "cols_num = []\n",
    "\n",
    "def sep_by_dtype(data):\n",
    "    for col in data.columns:\n",
    "        if data[col].dtype == 'object':\n",
    "            cols.append(col)\n",
    "        elif data[col].dtype == 'int':\n",
    "            cols_num.append(col)\n",
    "        elif data[col].dtype == 'float':\n",
    "            cols_num.append(col)\n",
    "\n",
    "sep_by_dtype(investor_data)"
   ]
  },
  {
   "cell_type": "code",
   "execution_count": 46,
   "id": "dc8b6e96",
   "metadata": {
    "ExecuteTime": {
     "end_time": "2022-06-20T00:18:23.554455Z",
     "start_time": "2022-06-20T00:18:23.551462Z"
    },
    "hidden": true
   },
   "outputs": [
    {
     "data": {
      "text/plain": [
       "['investor_id',\n",
       " 'marital_status',\n",
       " 'gender',\n",
       " 'investor_type',\n",
       " 'nationality',\n",
       " 'channel',\n",
       " 'office',\n",
       " 'profession',\n",
       " 'country',\n",
       " 'state']"
      ]
     },
     "execution_count": 46,
     "metadata": {},
     "output_type": "execute_result"
    }
   ],
   "source": [
    "cols"
   ]
  },
  {
   "cell_type": "code",
   "execution_count": 47,
   "id": "147ca792",
   "metadata": {
    "ExecuteTime": {
     "end_time": "2022-06-20T00:18:23.557526Z",
     "start_time": "2022-06-20T00:18:23.555497Z"
    },
    "hidden": true
   },
   "outputs": [],
   "source": [
    "# These columns will be analyzed using a different function\n",
    "\n",
    "cols.remove('office')\n",
    "cols.remove('profession')\n",
    "cols.remove('state')\n",
    "cols.remove('country')\n",
    "cols.remove('investor_id')"
   ]
  },
  {
   "cell_type": "code",
   "execution_count": 48,
   "id": "e4ac38a4",
   "metadata": {
    "ExecuteTime": {
     "end_time": "2022-06-20T00:18:23.561072Z",
     "start_time": "2022-06-20T00:18:23.558432Z"
    },
    "hidden": true
   },
   "outputs": [
    {
     "data": {
      "text/plain": [
       "['marital_status', 'gender', 'investor_type', 'nationality', 'channel']"
      ]
     },
     "execution_count": 48,
     "metadata": {},
     "output_type": "execute_result"
    }
   ],
   "source": [
    "cols"
   ]
  },
  {
   "cell_type": "markdown",
   "id": "a6bf385a",
   "metadata": {},
   "source": [
    "##### Data Distribution"
   ]
  },
  {
   "cell_type": "code",
   "execution_count": 49,
   "id": "dfe4b23f",
   "metadata": {
    "ExecuteTime": {
     "end_time": "2022-06-20T00:18:23.991351Z",
     "start_time": "2022-06-20T00:18:23.561807Z"
    },
    "code_folding": []
   },
   "outputs": [
    {
     "data": {
      "image/png": "[encoded data removed]",
      "text/plain": [
       "<Figure size 1080x1080 with 5 Axes>"
      ]
     },
     "metadata": {
      "needs_background": "light"
     },
     "output_type": "display_data"
    }
   ],
   "source": [
    "features = cols\n",
    "plt.figure(figsize = (15, 15))\n",
    "for i in range(0, len(cols)):\n",
    "    plt.subplot(3, 2, i+1)    \n",
    "    sns.countplot(data = investor_data[cols], x = features[i], palette = \"PuBu\")\n",
    "    plt.title(features[i], fontsize = 14)\n",
    "    plt.xticks(rotation = 45)\n",
    "    plt.tight_layout()"
   ]
  },
  {
   "cell_type": "markdown",
   "id": "7326be4d",
   "metadata": {},
   "source": [
    "###### Most common offices"
   ]
  },
  {
   "cell_type": "code",
   "execution_count": 50,
   "id": "14561cb3",
   "metadata": {
    "ExecuteTime": {
     "end_time": "2022-06-20T00:18:23.996231Z",
     "start_time": "2022-06-20T00:18:23.992106Z"
    }
   },
   "outputs": [],
   "source": [
    "investor_data['office'] = investor_data['office'].replace({'DIRETOR':'Diretor', 'Socio':'Sócio', 'sócio':'Sócio'})"
   ]
  },
  {
   "cell_type": "code",
   "execution_count": 51,
   "id": "3bedcced",
   "metadata": {
    "ExecuteTime": {
     "end_time": "2022-06-20T00:18:24.000906Z",
     "start_time": "2022-06-20T00:18:23.997087Z"
    }
   },
   "outputs": [
    {
     "data": {
      "text/plain": [
       "Diretor          318\n",
       "Sócio            199\n",
       "CEO              124\n",
       "Gerente          109\n",
       "Analista          80\n",
       "Proprietário      69\n",
       "Engenheiro        61\n",
       "Professor         48\n",
       "Advogado          41\n",
       "Administrador     40\n",
       "Name: office, dtype: int64"
      ]
     },
     "execution_count": 51,
     "metadata": {},
     "output_type": "execute_result"
    }
   ],
   "source": [
    "investor_data['office'].value_counts()[:10]"
   ]
  },
  {
   "cell_type": "markdown",
   "id": "b2398d2f",
   "metadata": {},
   "source": [
    "**Creating a list that contains the most common offices, it'll be used later**"
   ]
  },
  {
   "cell_type": "code",
   "execution_count": 52,
   "id": "050c1a16",
   "metadata": {
    "ExecuteTime": {
     "end_time": "2022-06-20T00:18:24.005175Z",
     "start_time": "2022-06-20T00:18:24.001751Z"
    }
   },
   "outputs": [],
   "source": [
    "top_offices = investor_data['office'].value_counts()[:10].index.tolist()"
   ]
  },
  {
   "cell_type": "code",
   "execution_count": 53,
   "id": "291eda74",
   "metadata": {
    "ExecuteTime": {
     "end_time": "2022-06-20T00:18:24.008677Z",
     "start_time": "2022-06-20T00:18:24.006146Z"
    }
   },
   "outputs": [
    {
     "data": {
      "text/plain": [
       "['Diretor',\n",
       " 'Sócio',\n",
       " 'CEO',\n",
       " 'Gerente',\n",
       " 'Analista',\n",
       " 'Proprietário',\n",
       " 'Engenheiro',\n",
       " 'Professor',\n",
       " 'Advogado',\n",
       " 'Administrador']"
      ]
     },
     "execution_count": 53,
     "metadata": {},
     "output_type": "execute_result"
    }
   ],
   "source": [
    "top_offices"
   ]
  },
  {
   "cell_type": "markdown",
   "id": "4ab65b4d",
   "metadata": {},
   "source": [
    "###### Most common professions"
   ]
  },
  {
   "cell_type": "code",
   "execution_count": 54,
   "id": "a6138560",
   "metadata": {
    "ExecuteTime": {
     "end_time": "2022-06-20T00:18:24.014331Z",
     "start_time": "2022-06-20T00:18:24.009694Z"
    }
   },
   "outputs": [
    {
     "data": {
      "text/plain": [
       "Engenheiro              274\n",
       "Administrador           234\n",
       "Empresário              177\n",
       "Advogado                163\n",
       "Empresario              105\n",
       "Médico                  101\n",
       "Economista               74\n",
       "Analista de Sistemas     74\n",
       "Engenheiro Civil         68\n",
       "Empresário               65\n",
       "Name: profession, dtype: int64"
      ]
     },
     "execution_count": 54,
     "metadata": {},
     "output_type": "execute_result"
    }
   ],
   "source": [
    "investor_data['profession'].value_counts()[:10]"
   ]
  },
  {
   "cell_type": "markdown",
   "id": "088be4b8",
   "metadata": {},
   "source": [
    "##### Conclusion"
   ]
  },
  {
   "cell_type": "markdown",
   "id": "56711fd4",
   "metadata": {},
   "source": [
    "**Observations**\n",
    "\n",
    "- Unfortunately, it is not possible to get much insight into the gender of the investors, as there are many null values. However, of those values that were filled in, the vast majority were male;\n",
    "\n",
    "- The vast majority of investors are PF;\n",
    "\n",
    "- The networks/media that are bringing in more clients are Instagram, Google and the indication of other people.\n",
    "\n",
    "- It would be interest to invest more in publications and advertisements on platforms like Facebook, LinkedIn and Youtube, because compared to other platforms, there are few customers coming from them. In addition, it is also essential to collaborate with influencers and people who are more active in social networks etc., because it is a great way to promote the work and reach a larger number of people;\n",
    "\n",
    "- You can see that most investors have a higher professional position, such as Director or CEO, for example;\n",
    "\n",
    "- Regarding professions, the most common among clients are Engineer, Administrator, and Entrepreneur."
   ]
  },
  {
   "cell_type": "markdown",
   "id": "051f2797",
   "metadata": {
    "ExecuteTime": {
     "end_time": "2022-06-15T03:00:28.808282Z",
     "start_time": "2022-06-15T03:00:28.805369Z"
    }
   },
   "source": [
    "### Investment and Project Data"
   ]
  },
  {
   "cell_type": "markdown",
   "id": "439ab4d7",
   "metadata": {},
   "source": [
    "#### Basic Info"
   ]
  },
  {
   "cell_type": "code",
   "execution_count": 55,
   "id": "48790cdc",
   "metadata": {
    "ExecuteTime": {
     "end_time": "2022-06-20T00:18:24.020687Z",
     "start_time": "2022-06-20T00:18:24.015191Z"
    },
    "scrolled": true
   },
   "outputs": [
    {
     "data": {
      "text/html": [
       "<div>\n",
       "<style scoped>\n",
       "    .dataframe tbody tr th:only-of-type {\n",
       "        vertical-align: middle;\n",
       "    }\n",
       "\n",
       "    .dataframe tbody tr th {\n",
       "        vertical-align: top;\n",
       "    }\n",
       "\n",
       "    .dataframe thead th {\n",
       "        text-align: right;\n",
       "    }\n",
       "</style>\n",
       "<table border=\"1\" class=\"dataframe\">\n",
       "  <thead>\n",
       "    <tr style=\"text-align: right;\">\n",
       "      <th></th>\n",
       "      <th>id</th>\n",
       "      <th>date_created</th>\n",
       "      <th>anonymous</th>\n",
       "      <th>investor</th>\n",
       "      <th>project</th>\n",
       "      <th>value</th>\n",
       "    </tr>\n",
       "  </thead>\n",
       "  <tbody>\n",
       "    <tr>\n",
       "      <th>0</th>\n",
       "      <td>19</td>\n",
       "      <td>2018-09-03</td>\n",
       "      <td>0</td>\n",
       "      <td>3</td>\n",
       "      <td>1</td>\n",
       "      <td>1000</td>\n",
       "    </tr>\n",
       "    <tr>\n",
       "      <th>1</th>\n",
       "      <td>20</td>\n",
       "      <td>2018-09-03</td>\n",
       "      <td>0</td>\n",
       "      <td>16</td>\n",
       "      <td>1</td>\n",
       "      <td>81000</td>\n",
       "    </tr>\n",
       "    <tr>\n",
       "      <th>2</th>\n",
       "      <td>21</td>\n",
       "      <td>2018-09-03</td>\n",
       "      <td>0</td>\n",
       "      <td>6</td>\n",
       "      <td>1</td>\n",
       "      <td>15000</td>\n",
       "    </tr>\n",
       "    <tr>\n",
       "      <th>3</th>\n",
       "      <td>26</td>\n",
       "      <td>2018-09-06</td>\n",
       "      <td>0</td>\n",
       "      <td>11</td>\n",
       "      <td>1</td>\n",
       "      <td>10000</td>\n",
       "    </tr>\n",
       "    <tr>\n",
       "      <th>4</th>\n",
       "      <td>28</td>\n",
       "      <td>2018-09-06</td>\n",
       "      <td>1</td>\n",
       "      <td>34</td>\n",
       "      <td>1</td>\n",
       "      <td>5000</td>\n",
       "    </tr>\n",
       "  </tbody>\n",
       "</table>\n",
       "</div>"
      ],
      "text/plain": [
       "   id date_created anonymous investor project  value\n",
       "0  19   2018-09-03         0        3       1   1000\n",
       "1  20   2018-09-03         0       16       1  81000\n",
       "2  21   2018-09-03         0        6       1  15000\n",
       "3  26   2018-09-06         0       11       1  10000\n",
       "4  28   2018-09-06         1       34       1   5000"
      ]
     },
     "execution_count": 55,
     "metadata": {},
     "output_type": "execute_result"
    }
   ],
   "source": [
    "investment.head()"
   ]
  },
  {
   "cell_type": "code",
   "execution_count": 56,
   "id": "bd2b2963",
   "metadata": {
    "ExecuteTime": {
     "end_time": "2022-06-20T00:18:24.027952Z",
     "start_time": "2022-06-20T00:18:24.021586Z"
    },
    "scrolled": true
   },
   "outputs": [
    {
     "data": {
      "text/html": [
       "<div>\n",
       "<style scoped>\n",
       "    .dataframe tbody tr th:only-of-type {\n",
       "        vertical-align: middle;\n",
       "    }\n",
       "\n",
       "    .dataframe tbody tr th {\n",
       "        vertical-align: top;\n",
       "    }\n",
       "\n",
       "    .dataframe thead th {\n",
       "        text-align: right;\n",
       "    }\n",
       "</style>\n",
       "<table border=\"1\" class=\"dataframe\">\n",
       "  <thead>\n",
       "    <tr style=\"text-align: right;\">\n",
       "      <th></th>\n",
       "      <th>id</th>\n",
       "      <th>date_created</th>\n",
       "      <th>validity</th>\n",
       "      <th>value</th>\n",
       "      <th>project_category</th>\n",
       "      <th>closed</th>\n",
       "      <th>date_open</th>\n",
       "      <th>modality</th>\n",
       "      <th>target</th>\n",
       "    </tr>\n",
       "  </thead>\n",
       "  <tbody>\n",
       "    <tr>\n",
       "      <th>0</th>\n",
       "      <td>1</td>\n",
       "      <td>2018-08-23</td>\n",
       "      <td>2018-10-31 00:00:00</td>\n",
       "      <td>750000</td>\n",
       "      <td>1</td>\n",
       "      <td>2018-11-01</td>\n",
       "      <td>2018-10-01 08:00:00</td>\n",
       "      <td>1</td>\n",
       "      <td>500000</td>\n",
       "    </tr>\n",
       "    <tr>\n",
       "      <th>1</th>\n",
       "      <td>4</td>\n",
       "      <td>2018-12-17</td>\n",
       "      <td>2019-02-28 00:00:00</td>\n",
       "      <td>750000</td>\n",
       "      <td>1</td>\n",
       "      <td>2019-03-10</td>\n",
       "      <td>2019-02-10 08:00:00</td>\n",
       "      <td>1</td>\n",
       "      <td>500000</td>\n",
       "    </tr>\n",
       "    <tr>\n",
       "      <th>2</th>\n",
       "      <td>5</td>\n",
       "      <td>2019-04-20</td>\n",
       "      <td>2019-06-14 00:00:00</td>\n",
       "      <td>1020000</td>\n",
       "      <td>1</td>\n",
       "      <td>2019-06-15</td>\n",
       "      <td>2019-05-15 08:00:00</td>\n",
       "      <td>1</td>\n",
       "      <td>680000</td>\n",
       "    </tr>\n",
       "    <tr>\n",
       "      <th>3</th>\n",
       "      <td>6</td>\n",
       "      <td>2019-07-29</td>\n",
       "      <td>2019-09-04 00:00:00</td>\n",
       "      <td>1200000</td>\n",
       "      <td>5</td>\n",
       "      <td>2019-08-19</td>\n",
       "      <td>2019-08-05 08:00:00</td>\n",
       "      <td>1</td>\n",
       "      <td>800000</td>\n",
       "    </tr>\n",
       "    <tr>\n",
       "      <th>4</th>\n",
       "      <td>7</td>\n",
       "      <td>2019-09-10</td>\n",
       "      <td>2019-10-15 23:59:00</td>\n",
       "      <td>810000</td>\n",
       "      <td>2</td>\n",
       "      <td>2019-09-27</td>\n",
       "      <td>2019-09-16 18:00:00</td>\n",
       "      <td>1</td>\n",
       "      <td>540000</td>\n",
       "    </tr>\n",
       "  </tbody>\n",
       "</table>\n",
       "</div>"
      ],
      "text/plain": [
       "  id date_created            validity    value project_category     closed  \\\n",
       "0  1   2018-08-23 2018-10-31 00:00:00   750000                1 2018-11-01   \n",
       "1  4   2018-12-17 2019-02-28 00:00:00   750000                1 2019-03-10   \n",
       "2  5   2019-04-20 2019-06-14 00:00:00  1020000                1 2019-06-15   \n",
       "3  6   2019-07-29 2019-09-04 00:00:00  1200000                5 2019-08-19   \n",
       "4  7   2019-09-10 2019-10-15 23:59:00   810000                2 2019-09-27   \n",
       "\n",
       "            date_open modality  target  \n",
       "0 2018-10-01 08:00:00        1  500000  \n",
       "1 2019-02-10 08:00:00        1  500000  \n",
       "2 2019-05-15 08:00:00        1  680000  \n",
       "3 2019-08-05 08:00:00        1  800000  \n",
       "4 2019-09-16 18:00:00        1  540000  "
      ]
     },
     "execution_count": 56,
     "metadata": {},
     "output_type": "execute_result"
    }
   ],
   "source": [
    "project.head()"
   ]
  },
  {
   "cell_type": "code",
   "execution_count": 57,
   "id": "a3fa778e",
   "metadata": {
    "ExecuteTime": {
     "end_time": "2022-06-20T00:18:24.032774Z",
     "start_time": "2022-06-20T00:18:24.028838Z"
    }
   },
   "outputs": [
    {
     "data": {
      "text/html": [
       "<div>\n",
       "<style scoped>\n",
       "    .dataframe tbody tr th:only-of-type {\n",
       "        vertical-align: middle;\n",
       "    }\n",
       "\n",
       "    .dataframe tbody tr th {\n",
       "        vertical-align: top;\n",
       "    }\n",
       "\n",
       "    .dataframe thead th {\n",
       "        text-align: right;\n",
       "    }\n",
       "</style>\n",
       "<table border=\"1\" class=\"dataframe\">\n",
       "  <thead>\n",
       "    <tr style=\"text-align: right;\">\n",
       "      <th></th>\n",
       "      <th>id</th>\n",
       "      <th>name</th>\n",
       "    </tr>\n",
       "  </thead>\n",
       "  <tbody>\n",
       "    <tr>\n",
       "      <th>0</th>\n",
       "      <td>1</td>\n",
       "      <td>Imobiliária</td>\n",
       "    </tr>\n",
       "    <tr>\n",
       "      <th>1</th>\n",
       "      <td>2</td>\n",
       "      <td>Energia</td>\n",
       "    </tr>\n",
       "    <tr>\n",
       "      <th>2</th>\n",
       "      <td>3</td>\n",
       "      <td>Ativos judiciais</td>\n",
       "    </tr>\n",
       "    <tr>\n",
       "      <th>3</th>\n",
       "      <td>4</td>\n",
       "      <td>Agronegócio</td>\n",
       "    </tr>\n",
       "    <tr>\n",
       "      <th>4</th>\n",
       "      <td>5</td>\n",
       "      <td>Comercial</td>\n",
       "    </tr>\n",
       "  </tbody>\n",
       "</table>\n",
       "</div>"
      ],
      "text/plain": [
       "   id              name\n",
       "0   1       Imobiliária\n",
       "1   2           Energia\n",
       "2   3  Ativos judiciais\n",
       "3   4       Agronegócio\n",
       "4   5         Comercial"
      ]
     },
     "execution_count": 57,
     "metadata": {},
     "output_type": "execute_result"
    }
   ],
   "source": [
    "project_category.head()"
   ]
  },
  {
   "cell_type": "markdown",
   "id": "b9f6518d",
   "metadata": {},
   "source": [
    "#### Data Joining"
   ]
  },
  {
   "cell_type": "code",
   "execution_count": 58,
   "id": "a4a05aae",
   "metadata": {
    "ExecuteTime": {
     "end_time": "2022-06-20T00:18:24.036056Z",
     "start_time": "2022-06-20T00:18:24.033509Z"
    }
   },
   "outputs": [],
   "source": [
    "project_cat_mod = project[['id', 'project_category', 'modality']]"
   ]
  },
  {
   "cell_type": "code",
   "execution_count": 59,
   "id": "16324ae0",
   "metadata": {
    "ExecuteTime": {
     "end_time": "2022-06-20T00:18:24.042363Z",
     "start_time": "2022-06-20T00:18:24.036833Z"
    }
   },
   "outputs": [],
   "source": [
    "investment_plus = investment.merge(project_cat_mod, left_on = 'project', right_on = 'id', how = 'left')"
   ]
  },
  {
   "cell_type": "code",
   "execution_count": 60,
   "id": "038b8aa4",
   "metadata": {
    "ExecuteTime": {
     "end_time": "2022-06-20T00:18:24.053075Z",
     "start_time": "2022-06-20T00:18:24.043349Z"
    }
   },
   "outputs": [
    {
     "name": "stdout",
     "output_type": "stream",
     "text": [
      "<class 'pandas.core.frame.DataFrame'>\n",
      "Int64Index: 9123 entries, 0 to 9122\n",
      "Data columns (total 9 columns):\n",
      " #   Column            Non-Null Count  Dtype         \n",
      "---  ------            --------------  -----         \n",
      " 0   id_x              9123 non-null   object        \n",
      " 1   date_created      9123 non-null   datetime64[ns]\n",
      " 2   anonymous         9123 non-null   object        \n",
      " 3   investor          9123 non-null   object        \n",
      " 4   project           9123 non-null   object        \n",
      " 5   value             9123 non-null   int64         \n",
      " 6   id_y              9123 non-null   object        \n",
      " 7   project_category  9123 non-null   object        \n",
      " 8   modality          9123 non-null   object        \n",
      "dtypes: datetime64[ns](1), int64(1), object(7)\n",
      "memory usage: 712.7+ KB\n"
     ]
    }
   ],
   "source": [
    "investment_plus.info()"
   ]
  },
  {
   "cell_type": "markdown",
   "id": "17b57382",
   "metadata": {
    "ExecuteTime": {
     "end_time": "2022-06-15T03:03:31.459711Z",
     "start_time": "2022-06-15T03:03:31.450772Z"
    }
   },
   "source": [
    "##### Dropping and renaming columns from investment_plus datasaet"
   ]
  },
  {
   "cell_type": "code",
   "execution_count": 61,
   "id": "d54c35ca",
   "metadata": {
    "ExecuteTime": {
     "end_time": "2022-06-20T00:18:24.060343Z",
     "start_time": "2022-06-20T00:18:24.054171Z"
    }
   },
   "outputs": [],
   "source": [
    "investment_plus.drop(columns = 'id_y', axis = 1, inplace = True)\n",
    "investment_plus.rename(columns = {'id_x': 'id'}, inplace = True)\n",
    "investment_plus = investment_plus.sort_values('date_created')"
   ]
  },
  {
   "cell_type": "code",
   "execution_count": 62,
   "id": "3a3427aa",
   "metadata": {
    "ExecuteTime": {
     "end_time": "2022-06-20T00:18:24.065634Z",
     "start_time": "2022-06-20T00:18:24.061205Z"
    }
   },
   "outputs": [],
   "source": [
    "investment_plus['project_category'].replace({'1':'imobiliaria', '2':'energia', '3':'ativos_jud', '4':'agronegocio', '5':'comercial'}, inplace = True)"
   ]
  },
  {
   "cell_type": "code",
   "execution_count": 63,
   "id": "cf4d1143",
   "metadata": {
    "ExecuteTime": {
     "end_time": "2022-06-20T00:18:24.069871Z",
     "start_time": "2022-06-20T00:18:24.066515Z"
    }
   },
   "outputs": [],
   "source": [
    "investment_plus['modality'].replace({'1':'debt', '2':'equity'}, inplace = True)"
   ]
  },
  {
   "cell_type": "markdown",
   "id": "35a733c5",
   "metadata": {
    "ExecuteTime": {
     "end_time": "2022-06-15T03:06:23.343147Z",
     "start_time": "2022-06-15T03:06:23.339396Z"
    }
   },
   "source": [
    "##### Visualizing the new dataset"
   ]
  },
  {
   "cell_type": "code",
   "execution_count": 64,
   "id": "e5f670d8",
   "metadata": {
    "ExecuteTime": {
     "end_time": "2022-06-20T00:18:24.079094Z",
     "start_time": "2022-06-20T00:18:24.070746Z"
    }
   },
   "outputs": [
    {
     "data": {
      "text/html": [
       "<div>\n",
       "<style scoped>\n",
       "    .dataframe tbody tr th:only-of-type {\n",
       "        vertical-align: middle;\n",
       "    }\n",
       "\n",
       "    .dataframe tbody tr th {\n",
       "        vertical-align: top;\n",
       "    }\n",
       "\n",
       "    .dataframe thead th {\n",
       "        text-align: right;\n",
       "    }\n",
       "</style>\n",
       "<table border=\"1\" class=\"dataframe\">\n",
       "  <thead>\n",
       "    <tr style=\"text-align: right;\">\n",
       "      <th></th>\n",
       "      <th>id</th>\n",
       "      <th>date_created</th>\n",
       "      <th>anonymous</th>\n",
       "      <th>investor</th>\n",
       "      <th>project</th>\n",
       "      <th>value</th>\n",
       "      <th>project_category</th>\n",
       "      <th>modality</th>\n",
       "    </tr>\n",
       "  </thead>\n",
       "  <tbody>\n",
       "    <tr>\n",
       "      <th>1031</th>\n",
       "      <td>1405</td>\n",
       "      <td>2020-08-31</td>\n",
       "      <td>1</td>\n",
       "      <td>5706</td>\n",
       "      <td>22</td>\n",
       "      <td>20000</td>\n",
       "      <td>agronegocio</td>\n",
       "      <td>equity</td>\n",
       "    </tr>\n",
       "    <tr>\n",
       "      <th>8776</th>\n",
       "      <td>11674</td>\n",
       "      <td>2022-04-14</td>\n",
       "      <td>0</td>\n",
       "      <td>16420</td>\n",
       "      <td>86</td>\n",
       "      <td>3000</td>\n",
       "      <td>comercial</td>\n",
       "      <td>debt</td>\n",
       "    </tr>\n",
       "    <tr>\n",
       "      <th>360</th>\n",
       "      <td>529</td>\n",
       "      <td>2019-11-18</td>\n",
       "      <td>1</td>\n",
       "      <td>1988</td>\n",
       "      <td>9</td>\n",
       "      <td>5000</td>\n",
       "      <td>comercial</td>\n",
       "      <td>debt</td>\n",
       "    </tr>\n",
       "    <tr>\n",
       "      <th>3573</th>\n",
       "      <td>4550</td>\n",
       "      <td>2021-05-06</td>\n",
       "      <td>1</td>\n",
       "      <td>9769</td>\n",
       "      <td>46</td>\n",
       "      <td>10000</td>\n",
       "      <td>agronegocio</td>\n",
       "      <td>equity</td>\n",
       "    </tr>\n",
       "    <tr>\n",
       "      <th>2464</th>\n",
       "      <td>3203</td>\n",
       "      <td>2021-02-09</td>\n",
       "      <td>0</td>\n",
       "      <td>7070</td>\n",
       "      <td>37</td>\n",
       "      <td>10000</td>\n",
       "      <td>agronegocio</td>\n",
       "      <td>debt</td>\n",
       "    </tr>\n",
       "    <tr>\n",
       "      <th>7924</th>\n",
       "      <td>10397</td>\n",
       "      <td>2022-02-02</td>\n",
       "      <td>1</td>\n",
       "      <td>2313</td>\n",
       "      <td>76</td>\n",
       "      <td>1000</td>\n",
       "      <td>comercial</td>\n",
       "      <td>debt</td>\n",
       "    </tr>\n",
       "    <tr>\n",
       "      <th>379</th>\n",
       "      <td>550</td>\n",
       "      <td>2019-11-18</td>\n",
       "      <td>0</td>\n",
       "      <td>3001</td>\n",
       "      <td>9</td>\n",
       "      <td>51000</td>\n",
       "      <td>comercial</td>\n",
       "      <td>debt</td>\n",
       "    </tr>\n",
       "    <tr>\n",
       "      <th>4754</th>\n",
       "      <td>6026</td>\n",
       "      <td>2021-07-02</td>\n",
       "      <td>1</td>\n",
       "      <td>12426</td>\n",
       "      <td>52</td>\n",
       "      <td>10000</td>\n",
       "      <td>imobiliaria</td>\n",
       "      <td>equity</td>\n",
       "    </tr>\n",
       "    <tr>\n",
       "      <th>998</th>\n",
       "      <td>1359</td>\n",
       "      <td>2020-08-25</td>\n",
       "      <td>0</td>\n",
       "      <td>11</td>\n",
       "      <td>21</td>\n",
       "      <td>10000</td>\n",
       "      <td>imobiliaria</td>\n",
       "      <td>debt</td>\n",
       "    </tr>\n",
       "    <tr>\n",
       "      <th>8984</th>\n",
       "      <td>12055</td>\n",
       "      <td>2022-05-16</td>\n",
       "      <td>0</td>\n",
       "      <td>20215</td>\n",
       "      <td>86</td>\n",
       "      <td>1000</td>\n",
       "      <td>comercial</td>\n",
       "      <td>debt</td>\n",
       "    </tr>\n",
       "  </tbody>\n",
       "</table>\n",
       "</div>"
      ],
      "text/plain": [
       "         id date_created anonymous investor project  value project_category  \\\n",
       "1031   1405   2020-08-31         1     5706      22  20000      agronegocio   \n",
       "8776  11674   2022-04-14         0    16420      86   3000        comercial   \n",
       "360     529   2019-11-18         1     1988       9   5000        comercial   \n",
       "3573   4550   2021-05-06         1     9769      46  10000      agronegocio   \n",
       "2464   3203   2021-02-09         0     7070      37  10000      agronegocio   \n",
       "7924  10397   2022-02-02         1     2313      76   1000        comercial   \n",
       "379     550   2019-11-18         0     3001       9  51000        comercial   \n",
       "4754   6026   2021-07-02         1    12426      52  10000      imobiliaria   \n",
       "998    1359   2020-08-25         0       11      21  10000      imobiliaria   \n",
       "8984  12055   2022-05-16         0    20215      86   1000        comercial   \n",
       "\n",
       "     modality  \n",
       "1031   equity  \n",
       "8776     debt  \n",
       "360      debt  \n",
       "3573   equity  \n",
       "2464     debt  \n",
       "7924     debt  \n",
       "379      debt  \n",
       "4754   equity  \n",
       "998      debt  \n",
       "8984     debt  "
      ]
     },
     "execution_count": 64,
     "metadata": {},
     "output_type": "execute_result"
    }
   ],
   "source": [
    "investment_plus.sample(10)"
   ]
  },
  {
   "cell_type": "markdown",
   "id": "8addfc61",
   "metadata": {},
   "source": [
    "#### Data Analysis"
   ]
  },
  {
   "cell_type": "markdown",
   "id": "13f45519",
   "metadata": {},
   "source": [
    "##### Data Sample"
   ]
  },
  {
   "cell_type": "code",
   "execution_count": 65,
   "id": "18250473",
   "metadata": {
    "ExecuteTime": {
     "end_time": "2022-06-20T00:18:24.087637Z",
     "start_time": "2022-06-20T00:18:24.080516Z"
    }
   },
   "outputs": [
    {
     "data": {
      "text/html": [
       "<div>\n",
       "<style scoped>\n",
       "    .dataframe tbody tr th:only-of-type {\n",
       "        vertical-align: middle;\n",
       "    }\n",
       "\n",
       "    .dataframe tbody tr th {\n",
       "        vertical-align: top;\n",
       "    }\n",
       "\n",
       "    .dataframe thead th {\n",
       "        text-align: right;\n",
       "    }\n",
       "</style>\n",
       "<table border=\"1\" class=\"dataframe\">\n",
       "  <thead>\n",
       "    <tr style=\"text-align: right;\">\n",
       "      <th></th>\n",
       "      <th>id</th>\n",
       "      <th>date_created</th>\n",
       "      <th>anonymous</th>\n",
       "      <th>investor</th>\n",
       "      <th>project</th>\n",
       "      <th>value</th>\n",
       "      <th>project_category</th>\n",
       "      <th>modality</th>\n",
       "    </tr>\n",
       "  </thead>\n",
       "  <tbody>\n",
       "    <tr>\n",
       "      <th>5081</th>\n",
       "      <td>6451</td>\n",
       "      <td>2021-07-16</td>\n",
       "      <td>0</td>\n",
       "      <td>14069</td>\n",
       "      <td>55</td>\n",
       "      <td>5000</td>\n",
       "      <td>energia</td>\n",
       "      <td>equity</td>\n",
       "    </tr>\n",
       "    <tr>\n",
       "      <th>1830</th>\n",
       "      <td>2416</td>\n",
       "      <td>2020-12-05</td>\n",
       "      <td>1</td>\n",
       "      <td>5706</td>\n",
       "      <td>29</td>\n",
       "      <td>5000</td>\n",
       "      <td>agronegocio</td>\n",
       "      <td>debt</td>\n",
       "    </tr>\n",
       "    <tr>\n",
       "      <th>7963</th>\n",
       "      <td>10443</td>\n",
       "      <td>2022-02-03</td>\n",
       "      <td>0</td>\n",
       "      <td>13865</td>\n",
       "      <td>76</td>\n",
       "      <td>1000</td>\n",
       "      <td>comercial</td>\n",
       "      <td>debt</td>\n",
       "    </tr>\n",
       "    <tr>\n",
       "      <th>8651</th>\n",
       "      <td>11460</td>\n",
       "      <td>2022-03-28</td>\n",
       "      <td>1</td>\n",
       "      <td>23140</td>\n",
       "      <td>81</td>\n",
       "      <td>1000</td>\n",
       "      <td>comercial</td>\n",
       "      <td>debt</td>\n",
       "    </tr>\n",
       "    <tr>\n",
       "      <th>2418</th>\n",
       "      <td>3150</td>\n",
       "      <td>2021-02-08</td>\n",
       "      <td>0</td>\n",
       "      <td>2994</td>\n",
       "      <td>34</td>\n",
       "      <td>5000</td>\n",
       "      <td>imobiliaria</td>\n",
       "      <td>equity</td>\n",
       "    </tr>\n",
       "  </tbody>\n",
       "</table>\n",
       "</div>"
      ],
      "text/plain": [
       "         id date_created anonymous investor project  value project_category  \\\n",
       "5081   6451   2021-07-16         0    14069      55   5000          energia   \n",
       "1830   2416   2020-12-05         1     5706      29   5000      agronegocio   \n",
       "7963  10443   2022-02-03         0    13865      76   1000        comercial   \n",
       "8651  11460   2022-03-28         1    23140      81   1000        comercial   \n",
       "2418   3150   2021-02-08         0     2994      34   5000      imobiliaria   \n",
       "\n",
       "     modality  \n",
       "5081   equity  \n",
       "1830     debt  \n",
       "7963     debt  \n",
       "8651     debt  \n",
       "2418   equity  "
      ]
     },
     "execution_count": 65,
     "metadata": {},
     "output_type": "execute_result"
    }
   ],
   "source": [
    "investment_plus.sample(5)"
   ]
  },
  {
   "cell_type": "markdown",
   "id": "71688b06",
   "metadata": {},
   "source": [
    "##### Project Category"
   ]
  },
  {
   "cell_type": "code",
   "execution_count": 66,
   "id": "88d9aa8e",
   "metadata": {
    "ExecuteTime": {
     "end_time": "2022-06-20T00:18:24.155644Z",
     "start_time": "2022-06-20T00:18:24.088629Z"
    }
   },
   "outputs": [
    {
     "data": {
      "image/png": "[encoded data removed]",
      "text/plain": [
       "<Figure size 432x432 with 1 Axes>"
      ]
     },
     "metadata": {
      "needs_background": "light"
     },
     "output_type": "display_data"
    }
   ],
   "source": [
    "plt.figure(figsize = (6, 6))\n",
    "sns.countplot(x = investment_plus['project_category'], palette = 'PuBu')\n",
    "plt.title('Project Category Distribution')\n",
    "plt.show()"
   ]
  },
  {
   "cell_type": "code",
   "execution_count": 95,
   "id": "a97f763b",
   "metadata": {
    "ExecuteTime": {
     "end_time": "2022-06-20T02:49:56.665222Z",
     "start_time": "2022-06-20T02:49:56.339960Z"
    }
   },
   "outputs": [
    {
     "data": {
      "image/png": "[encoded data removed]",
      "text/plain": [
       "<Figure size 432x432 with 1 Axes>"
      ]
     },
     "metadata": {
      "needs_background": "light"
     },
     "output_type": "display_data"
    }
   ],
   "source": [
    "plt.figure(figsize = (6,6))\n",
    "sns.barplot(x = investment_plus['project_category'], y = investment_plus['value'], palette = 'PuBu')\n",
    "plt.title('Project Category vs. Value Invested')\n",
    "plt.show()"
   ]
  },
  {
   "cell_type": "code",
   "execution_count": 68,
   "id": "a35c4e94",
   "metadata": {
    "ExecuteTime": {
     "end_time": "2022-06-20T00:18:24.574488Z",
     "start_time": "2022-06-20T00:18:24.491630Z"
    }
   },
   "outputs": [
    {
     "data": {
      "image/png": "[encoded data removed]",
      "text/plain": [
       "<Figure size 432x432 with 1 Axes>"
      ]
     },
     "metadata": {
      "needs_background": "light"
     },
     "output_type": "display_data"
    }
   ],
   "source": [
    "plt.figure(figsize = (6,6))\n",
    "sns.countplot(x = investment_plus['project_category'], hue = investment_plus['modality'], palette = 'PuBu')\n",
    "plt.title('Project Category vs. Modality')\n",
    "plt.show()"
   ]
  },
  {
   "cell_type": "markdown",
   "id": "382df0f9",
   "metadata": {},
   "source": [
    "##### Investment Modality"
   ]
  },
  {
   "cell_type": "code",
   "execution_count": 69,
   "id": "b1c17546",
   "metadata": {
    "ExecuteTime": {
     "end_time": "2022-06-20T00:18:24.626960Z",
     "start_time": "2022-06-20T00:18:24.575344Z"
    }
   },
   "outputs": [
    {
     "data": {
      "image/png": "[encoded data removed]",
      "text/plain": [
       "<Figure size 432x288 with 1 Axes>"
      ]
     },
     "metadata": {
      "needs_background": "light"
     },
     "output_type": "display_data"
    }
   ],
   "source": [
    "sns.countplot(x = investment_plus['modality'], palette = 'PuBu')\n",
    "plt.title('Investment Modality Distribution')\n",
    "plt.show()"
   ]
  },
  {
   "cell_type": "code",
   "execution_count": 96,
   "id": "5d368e3e",
   "metadata": {
    "ExecuteTime": {
     "end_time": "2022-06-20T02:50:10.743429Z",
     "start_time": "2022-06-20T02:50:10.547247Z"
    }
   },
   "outputs": [
    {
     "data": {
      "image/png": "[encoded data removed]",
      "text/plain": [
       "<Figure size 432x432 with 1 Axes>"
      ]
     },
     "metadata": {
      "needs_background": "light"
     },
     "output_type": "display_data"
    }
   ],
   "source": [
    "plt.figure(figsize = (6,6))\n",
    "sns.barplot(x = investment_plus['modality'], y = investment_plus['value'], palette = 'PuBu')\n",
    "plt.title('Invesment Modality vs. Value Invested')\n",
    "plt.show()"
   ]
  },
  {
   "cell_type": "markdown",
   "id": "7d8a68e3",
   "metadata": {
    "ExecuteTime": {
     "end_time": "2022-06-17T17:41:56.037893Z",
     "start_time": "2022-06-17T17:41:56.034876Z"
    }
   },
   "source": [
    "### Investor and Investment Data"
   ]
  },
  {
   "cell_type": "markdown",
   "id": "8b95d7c3",
   "metadata": {},
   "source": [
    "#### Data Joining"
   ]
  },
  {
   "cell_type": "code",
   "execution_count": 71,
   "id": "9d34a507",
   "metadata": {
    "ExecuteTime": {
     "end_time": "2022-06-20T00:18:24.853666Z",
     "start_time": "2022-06-20T00:18:24.834085Z"
    }
   },
   "outputs": [],
   "source": [
    "investor_charact = investor_data.merge(investment_plus, left_on = 'investor_id', right_on = 'investor', how = 'left')"
   ]
  },
  {
   "cell_type": "markdown",
   "id": "e24b6c21",
   "metadata": {},
   "source": [
    "#### Basic Info"
   ]
  },
  {
   "cell_type": "code",
   "execution_count": 72,
   "id": "e1c05268",
   "metadata": {
    "ExecuteTime": {
     "end_time": "2022-06-20T00:18:24.875262Z",
     "start_time": "2022-06-20T00:18:24.854431Z"
    }
   },
   "outputs": [
    {
     "name": "stdout",
     "output_type": "stream",
     "text": [
      "<class 'pandas.core.frame.DataFrame'>\n",
      "Int64Index: 28093 entries, 0 to 28092\n",
      "Data columns (total 21 columns):\n",
      " #   Column            Non-Null Count  Dtype         \n",
      "---  ------            --------------  -----         \n",
      " 0   investor_id       28093 non-null  object        \n",
      " 1   birth             17856 non-null  datetime64[ns]\n",
      " 2   marital_status    11066 non-null  object        \n",
      " 3   gender            28093 non-null  object        \n",
      " 4   investor_type     28093 non-null  object        \n",
      " 5   nationality       28093 non-null  object        \n",
      " 6   channel           7043 non-null   object        \n",
      " 7   office            10845 non-null  object        \n",
      " 8   profession        10930 non-null  object        \n",
      " 9   country           28093 non-null  object        \n",
      " 10  state             17820 non-null  object        \n",
      " 11  date              28093 non-null  datetime64[ns]\n",
      " 12  age_created       17856 non-null  float64       \n",
      " 13  id                9123 non-null   object        \n",
      " 14  date_created      9123 non-null   datetime64[ns]\n",
      " 15  anonymous         9123 non-null   object        \n",
      " 16  investor          9123 non-null   object        \n",
      " 17  project           9123 non-null   object        \n",
      " 18  value             9123 non-null   float64       \n",
      " 19  project_category  9123 non-null   object        \n",
      " 20  modality          9123 non-null   object        \n",
      "dtypes: datetime64[ns](3), float64(2), object(16)\n",
      "memory usage: 4.7+ MB\n"
     ]
    }
   ],
   "source": [
    "investor_charact.info()"
   ]
  },
  {
   "cell_type": "markdown",
   "id": "a7bd199f",
   "metadata": {},
   "source": [
    "#### Dropping unnecessary columns"
   ]
  },
  {
   "cell_type": "code",
   "execution_count": 73,
   "id": "535752e5",
   "metadata": {
    "ExecuteTime": {
     "end_time": "2022-06-20T00:18:24.888126Z",
     "start_time": "2022-06-20T00:18:24.876109Z"
    }
   },
   "outputs": [],
   "source": [
    "investor_charact.drop(columns = ['date_created', 'birth', 'date', 'gender', 'nationality'], axis = 1, inplace = True)"
   ]
  },
  {
   "cell_type": "code",
   "execution_count": 74,
   "id": "84704354",
   "metadata": {
    "ExecuteTime": {
     "end_time": "2022-06-20T00:18:24.905052Z",
     "start_time": "2022-06-20T00:18:24.889145Z"
    }
   },
   "outputs": [
    {
     "data": {
      "text/plain": [
       "investor_id         False\n",
       "marital_status       True\n",
       "investor_type       False\n",
       "channel              True\n",
       "office               True\n",
       "profession           True\n",
       "country             False\n",
       "state                True\n",
       "age_created          True\n",
       "id                   True\n",
       "anonymous            True\n",
       "investor             True\n",
       "project              True\n",
       "value                True\n",
       "project_category     True\n",
       "modality             True\n",
       "dtype: bool"
      ]
     },
     "execution_count": 74,
     "metadata": {},
     "output_type": "execute_result"
    }
   ],
   "source": [
    "investor_charact.isna().any()"
   ]
  },
  {
   "cell_type": "markdown",
   "id": "063da3ef",
   "metadata": {},
   "source": [
    "#### Dropping NaN values"
   ]
  },
  {
   "cell_type": "code",
   "execution_count": 75,
   "id": "83b37bff",
   "metadata": {
    "ExecuteTime": {
     "end_time": "2022-06-20T00:18:24.917380Z",
     "start_time": "2022-06-20T00:18:24.906584Z"
    }
   },
   "outputs": [],
   "source": [
    "investor_charact.dropna(subset = ['investor','project','value','modality','project_category'], how = 'any', inplace = True)"
   ]
  },
  {
   "cell_type": "markdown",
   "id": "dd412dfb",
   "metadata": {},
   "source": [
    "#### Data Head"
   ]
  },
  {
   "cell_type": "code",
   "execution_count": 76,
   "id": "bb7c467f",
   "metadata": {
    "ExecuteTime": {
     "end_time": "2022-06-20T00:18:24.927169Z",
     "start_time": "2022-06-20T00:18:24.918373Z"
    },
    "scrolled": true
   },
   "outputs": [
    {
     "data": {
      "text/html": [
       "<div>\n",
       "<style scoped>\n",
       "    .dataframe tbody tr th:only-of-type {\n",
       "        vertical-align: middle;\n",
       "    }\n",
       "\n",
       "    .dataframe tbody tr th {\n",
       "        vertical-align: top;\n",
       "    }\n",
       "\n",
       "    .dataframe thead th {\n",
       "        text-align: right;\n",
       "    }\n",
       "</style>\n",
       "<table border=\"1\" class=\"dataframe\">\n",
       "  <thead>\n",
       "    <tr style=\"text-align: right;\">\n",
       "      <th></th>\n",
       "      <th>investor_id</th>\n",
       "      <th>marital_status</th>\n",
       "      <th>investor_type</th>\n",
       "      <th>channel</th>\n",
       "      <th>office</th>\n",
       "      <th>profession</th>\n",
       "      <th>country</th>\n",
       "      <th>state</th>\n",
       "      <th>age_created</th>\n",
       "      <th>id</th>\n",
       "      <th>anonymous</th>\n",
       "      <th>investor</th>\n",
       "      <th>project</th>\n",
       "      <th>value</th>\n",
       "      <th>project_category</th>\n",
       "      <th>modality</th>\n",
       "    </tr>\n",
       "  </thead>\n",
       "  <tbody>\n",
       "    <tr>\n",
       "      <th>0</th>\n",
       "      <td>1</td>\n",
       "      <td>Casado(a)</td>\n",
       "      <td>pf</td>\n",
       "      <td>indication</td>\n",
       "      <td>CTO</td>\n",
       "      <td>Empresário</td>\n",
       "      <td>1.0</td>\n",
       "      <td>BA</td>\n",
       "      <td>25.0</td>\n",
       "      <td>532</td>\n",
       "      <td>0</td>\n",
       "      <td>1</td>\n",
       "      <td>9</td>\n",
       "      <td>5000.0</td>\n",
       "      <td>comercial</td>\n",
       "      <td>debt</td>\n",
       "    </tr>\n",
       "    <tr>\n",
       "      <th>1</th>\n",
       "      <td>1</td>\n",
       "      <td>Casado(a)</td>\n",
       "      <td>pf</td>\n",
       "      <td>indication</td>\n",
       "      <td>CTO</td>\n",
       "      <td>Empresário</td>\n",
       "      <td>1.0</td>\n",
       "      <td>BA</td>\n",
       "      <td>25.0</td>\n",
       "      <td>974</td>\n",
       "      <td>0</td>\n",
       "      <td>1</td>\n",
       "      <td>17</td>\n",
       "      <td>5000.0</td>\n",
       "      <td>agronegocio</td>\n",
       "      <td>debt</td>\n",
       "    </tr>\n",
       "    <tr>\n",
       "      <th>2</th>\n",
       "      <td>1</td>\n",
       "      <td>Casado(a)</td>\n",
       "      <td>pf</td>\n",
       "      <td>indication</td>\n",
       "      <td>CTO</td>\n",
       "      <td>Empresário</td>\n",
       "      <td>1.0</td>\n",
       "      <td>BA</td>\n",
       "      <td>25.0</td>\n",
       "      <td>7653</td>\n",
       "      <td>0</td>\n",
       "      <td>1</td>\n",
       "      <td>62</td>\n",
       "      <td>2500.0</td>\n",
       "      <td>agronegocio</td>\n",
       "      <td>debt</td>\n",
       "    </tr>\n",
       "    <tr>\n",
       "      <th>3</th>\n",
       "      <td>3</td>\n",
       "      <td>Casado(a)</td>\n",
       "      <td>pf</td>\n",
       "      <td>NaN</td>\n",
       "      <td>CFO</td>\n",
       "      <td>Administrador</td>\n",
       "      <td>1.0</td>\n",
       "      <td>BA</td>\n",
       "      <td>36.0</td>\n",
       "      <td>19</td>\n",
       "      <td>0</td>\n",
       "      <td>3</td>\n",
       "      <td>1</td>\n",
       "      <td>1000.0</td>\n",
       "      <td>imobiliaria</td>\n",
       "      <td>debt</td>\n",
       "    </tr>\n",
       "    <tr>\n",
       "      <th>4</th>\n",
       "      <td>3</td>\n",
       "      <td>Casado(a)</td>\n",
       "      <td>pf</td>\n",
       "      <td>NaN</td>\n",
       "      <td>CFO</td>\n",
       "      <td>Administrador</td>\n",
       "      <td>1.0</td>\n",
       "      <td>BA</td>\n",
       "      <td>36.0</td>\n",
       "      <td>56</td>\n",
       "      <td>0</td>\n",
       "      <td>3</td>\n",
       "      <td>1</td>\n",
       "      <td>29000.0</td>\n",
       "      <td>imobiliaria</td>\n",
       "      <td>debt</td>\n",
       "    </tr>\n",
       "  </tbody>\n",
       "</table>\n",
       "</div>"
      ],
      "text/plain": [
       "  investor_id marital_status investor_type     channel office     profession  \\\n",
       "0           1      Casado(a)            pf  indication    CTO     Empresário   \n",
       "1           1      Casado(a)            pf  indication    CTO     Empresário   \n",
       "2           1      Casado(a)            pf  indication    CTO     Empresário   \n",
       "3           3      Casado(a)            pf         NaN    CFO  Administrador   \n",
       "4           3      Casado(a)            pf         NaN    CFO  Administrador   \n",
       "\n",
       "  country state  age_created    id anonymous investor project    value  \\\n",
       "0     1.0    BA         25.0   532         0        1       9   5000.0   \n",
       "1     1.0    BA         25.0   974         0        1      17   5000.0   \n",
       "2     1.0    BA         25.0  7653         0        1      62   2500.0   \n",
       "3     1.0    BA         36.0    19         0        3       1   1000.0   \n",
       "4     1.0    BA         36.0    56         0        3       1  29000.0   \n",
       "\n",
       "  project_category modality  \n",
       "0        comercial     debt  \n",
       "1      agronegocio     debt  \n",
       "2      agronegocio     debt  \n",
       "3      imobiliaria     debt  \n",
       "4      imobiliaria     debt  "
      ]
     },
     "execution_count": 76,
     "metadata": {},
     "output_type": "execute_result"
    }
   ],
   "source": [
    "investor_charact.head()"
   ]
  },
  {
   "cell_type": "markdown",
   "id": "faa71735",
   "metadata": {},
   "source": [
    "#### Data Analysis "
   ]
  },
  {
   "cell_type": "markdown",
   "id": "01c128e6",
   "metadata": {},
   "source": [
    "##### Filtering only investors with top 10 offices"
   ]
  },
  {
   "cell_type": "code",
   "execution_count": 78,
   "id": "0bed1884",
   "metadata": {
    "ExecuteTime": {
     "end_time": "2022-06-20T00:18:24.974493Z",
     "start_time": "2022-06-20T00:18:24.969980Z"
    },
    "scrolled": false
   },
   "outputs": [],
   "source": [
    "top_offices_data = investor_charact[investor_charact['office'].isin(top_offices)]"
   ]
  },
  {
   "cell_type": "markdown",
   "id": "5a059b63",
   "metadata": {},
   "source": [
    "## Conclusion\n",
    "----\n",
    "\n",
    "**Questions**\n",
    "- What are the offices of the people who invest the most?\n",
    "- From which channels customers most often come?\n",
    "- When the client comes through someone else's indication, in a certain way, it generates a greater confidence of the client in the company. Therefore, does this trust influence the amount invested?\n",
    "- Which project categories are usually the most invested in?\n",
    "- At what age do clients usually start investing with the company? Does it influence the amount that is invested?"
   ]
  },
  {
   "cell_type": "markdown",
   "id": "a96b1811",
   "metadata": {},
   "source": [
    "### Answers"
   ]
  },
  {
   "cell_type": "markdown",
   "id": "ee1cdcb9",
   "metadata": {},
   "source": [
    "#### What are the offices of the people who invest the most?"
   ]
  },
  {
   "cell_type": "code",
   "execution_count": 93,
   "id": "1c9fa0ff",
   "metadata": {
    "ExecuteTime": {
     "end_time": "2022-06-20T02:47:58.420093Z",
     "start_time": "2022-06-20T02:47:58.150697Z"
    }
   },
   "outputs": [
    {
     "data": {
      "image/png": "[encoded data removed]",
      "text/plain": [
       "<Figure size 432x432 with 1 Axes>"
      ]
     },
     "metadata": {
      "needs_background": "light"
     },
     "output_type": "display_data"
    }
   ],
   "source": [
    "plt.figure(figsize = (6,6))\n",
    "sns.barplot(y = top_offices_data['office'], x = investor_charact['value'], palette = 'PuBu')\n",
    "plt.title('Office vs. Value Invested')\n",
    "plt.show()"
   ]
  },
  {
   "cell_type": "markdown",
   "id": "64da1712",
   "metadata": {},
   "source": [
    "#### From which channel customers most often come?"
   ]
  },
  {
   "cell_type": "code",
   "execution_count": 80,
   "id": "48212e94",
   "metadata": {
    "ExecuteTime": {
     "end_time": "2022-06-20T00:18:25.478119Z",
     "start_time": "2022-06-20T00:18:25.392782Z"
    }
   },
   "outputs": [
    {
     "data": {
      "image/png": "[encoded data removed]",
      "text/plain": [
       "<Figure size 1080x432 with 1 Axes>"
      ]
     },
     "metadata": {
      "needs_background": "light"
     },
     "output_type": "display_data"
    }
   ],
   "source": [
    "plt.figure(figsize = (15,6))\n",
    "sns.countplot(investor_data['channel'], palette = 'PuBu')\n",
    "plt.title('Channels')\n",
    "plt.show()"
   ]
  },
  {
   "cell_type": "markdown",
   "id": "e81e0a26",
   "metadata": {},
   "source": [
    "Looking at the chart above, it can be seen that the most common channels are Google, Instagram and indication from others. In addition, coming through influencers is also common.\n",
    "\n",
    "**Ideas**\n",
    "- Some platforms like Facebook and Youtube can be better leveraged;\n",
    "\n",
    "- It is worth having some kind of incentive for those who indicate the service to other people. For example, when referring someone, if the person actually becomes a client, the person who referred receives an amount in investments or a discount;\n",
    "\n",
    "- It is interesting to make more partnerships with influencers (both people and pages), because besides having a greater power of influence, they can reach a larger audience. "
   ]
  },
  {
   "cell_type": "markdown",
   "id": "0f706414",
   "metadata": {
    "ExecuteTime": {
     "end_time": "2022-06-18T17:55:44.897365Z",
     "start_time": "2022-06-18T17:55:44.892325Z"
    }
   },
   "source": [
    "#### When the client comes through someone else's indication, in a certain way, it generates a greater confidence of the client in the company. Therefore, does this trust influence the amount invested?"
   ]
  },
  {
   "cell_type": "code",
   "execution_count": 92,
   "id": "53aeeefd",
   "metadata": {
    "ExecuteTime": {
     "end_time": "2022-06-20T02:47:37.522837Z",
     "start_time": "2022-06-20T02:47:37.227904Z"
    }
   },
   "outputs": [
    {
     "data": {
      "image/png": "[encoded data removed]",
      "text/plain": [
       "<Figure size 432x432 with 1 Axes>"
      ]
     },
     "metadata": {
      "needs_background": "light"
     },
     "output_type": "display_data"
    }
   ],
   "source": [
    "plt.figure(figsize = (6,6))\n",
    "sns.barplot(y = investor_charact['channel'], x = investor_charact['value'], palette = 'PuBu')\n",
    "plt.title('Channel vs. Value Invested')\n",
    "plt.show()"
   ]
  },
  {
   "cell_type": "markdown",
   "id": "0453e4e6",
   "metadata": {},
   "source": [
    "Considering the average amount invested, when the client comes by recommendation, he really tends to invest more, due to the trust he has in the company."
   ]
  },
  {
   "cell_type": "markdown",
   "id": "850b8ba7",
   "metadata": {},
   "source": [
    "#### Which project categories are usually the most invested in?"
   ]
  },
  {
   "cell_type": "code",
   "execution_count": 82,
   "id": "4b8b7468",
   "metadata": {
    "ExecuteTime": {
     "end_time": "2022-06-20T00:18:26.011997Z",
     "start_time": "2022-06-20T00:18:25.950594Z"
    }
   },
   "outputs": [
    {
     "data": {
      "image/png": "[encoded data removed]",
      "text/plain": [
       "<Figure size 432x432 with 1 Axes>"
      ]
     },
     "metadata": {
      "needs_background": "light"
     },
     "output_type": "display_data"
    }
   ],
   "source": [
    "plt.figure(figsize = (6,6))\n",
    "sns.countplot(investor_charact['project_category'], palette = 'PuBu')\n",
    "plt.title('Project Categories')\n",
    "plt.show()"
   ]
  },
  {
   "cell_type": "code",
   "execution_count": 94,
   "id": "a746da00",
   "metadata": {
    "ExecuteTime": {
     "end_time": "2022-06-20T02:49:10.459489Z",
     "start_time": "2022-06-20T02:49:10.208355Z"
    }
   },
   "outputs": [
    {
     "data": {
      "image/png": "[encoded data removed]",
      "text/plain": [
       "<Figure size 432x432 with 1 Axes>"
      ]
     },
     "metadata": {
      "needs_background": "light"
     },
     "output_type": "display_data"
    }
   ],
   "source": [
    "plt.figure(figsize = (6,6))\n",
    "sns.barplot(x = investor_charact['project_category'], y = investor_charact['value'], palette = 'PuBu')\n",
    "plt.title('Project Category vs. Value Invested')\n",
    "plt.show()"
   ]
  },
  {
   "cell_type": "markdown",
   "id": "bc1aee39",
   "metadata": {},
   "source": [
    "The total amount invested in the Imobiliária and Ativos Judiciais categories is interesting, because even though there are not as many investments in these categories (compared to agronegócio and energia, for example), there is as much invested in them as in the others.\n",
    "\n",
    "- The Ativos Judiciais category is surprising, as there are very few investments in this category, and yet it raises as much as the Comercial or Energia category, which have many more investments, for example."
   ]
  },
  {
   "cell_type": "markdown",
   "id": "dd390b95",
   "metadata": {},
   "source": [
    "#### At what age do clients usually start investing with the company? Does it influence the amount that is invested?"
   ]
  },
  {
   "cell_type": "code",
   "execution_count": 84,
   "id": "d10187a9",
   "metadata": {
    "ExecuteTime": {
     "end_time": "2022-06-20T00:18:26.382287Z",
     "start_time": "2022-06-20T00:18:26.377986Z"
    }
   },
   "outputs": [
    {
     "data": {
      "text/plain": [
       "count    9113.0\n",
       "mean       41.0\n",
       "std        10.0\n",
       "min        -0.0\n",
       "25%        34.0\n",
       "50%        38.0\n",
       "75%        45.0\n",
       "max       148.0\n",
       "Name: age_created, dtype: float64"
      ]
     },
     "execution_count": 84,
     "metadata": {},
     "output_type": "execute_result"
    }
   ],
   "source": [
    "round(investor_charact['age_created'].describe())"
   ]
  },
  {
   "cell_type": "code",
   "execution_count": 85,
   "id": "95e29c29",
   "metadata": {
    "ExecuteTime": {
     "end_time": "2022-06-20T00:18:26.504318Z",
     "start_time": "2022-06-20T00:18:26.383005Z"
    }
   },
   "outputs": [
    {
     "data": {
      "image/png": "[encoded data removed]",
      "text/plain": [
       "<Figure size 432x288 with 1 Axes>"
      ]
     },
     "metadata": {
      "needs_background": "light"
     },
     "output_type": "display_data"
    }
   ],
   "source": [
    "sns.histplot(x = investor_charact['age_created'], palette = 'PuBu', kde = True, bins = 35)\n",
    "plt.title('Age Distribution')\n",
    "plt.show()"
   ]
  },
  {
   "cell_type": "code",
   "execution_count": 86,
   "id": "ca23ce1c",
   "metadata": {
    "ExecuteTime": {
     "end_time": "2022-06-20T00:18:26.508434Z",
     "start_time": "2022-06-20T00:18:26.505249Z"
    },
    "scrolled": true
   },
   "outputs": [
    {
     "data": {
      "text/plain": [
       "0.13"
      ]
     },
     "execution_count": 86,
     "metadata": {},
     "output_type": "execute_result"
    }
   ],
   "source": [
    "round(investor_charact['age_created'].corr(investor_charact['value']),2)"
   ]
  },
  {
   "cell_type": "markdown",
   "id": "e0d39d69",
   "metadata": {},
   "source": [
    "- The great majority of clients started investing at about 40-45 years old, and the average age is 41;\n",
    "- Apparently, age does not influence the amount invested, considering that the value for Pearson's correlation is 0.13."
   ]
  }
 ],
 "metadata": {
  "colab": {
   "name": "analytics-bloxs.ipynb",
   "provenance": []
  },
  "hide_input": false,
  "kernelspec": {
   "display_name": "Python 3 (ipykernel)",
   "language": "python",
   "name": "python3"
  },
  "language_info": {
   "codemirror_mode": {
    "name": "ipython",
    "version": 3
   },
   "file_extension": ".py",
   "mimetype": "text/x-python",
   "name": "python",
   "nbconvert_exporter": "python",
   "pygments_lexer": "ipython3",
   "version": "3.9.7"
  },
  "toc": {
   "base_numbering": 1,
   "nav_menu": {},
   "number_sections": true,
   "sideBar": true,
   "skip_h1_title": false,
   "title_cell": "Table of Contents",
   "title_sidebar": "Contents",
   "toc_cell": false,
   "toc_position": {},
   "toc_section_display": true,
   "toc_window_display": true
  },
  "varInspector": {
   "cols": {
    "lenName": 16,
    "lenType": 16,
    "lenVar": 40
   },
   "kernels_config": {
    "python": {
     "delete_cmd_postfix": "",
     "delete_cmd_prefix": "del ",
     "library": "var_list.py",
     "varRefreshCmd": "print(var_dic_list())"
    },
    "r": {
     "delete_cmd_postfix": ") ",
     "delete_cmd_prefix": "rm(",
     "library": "var_list.r",
     "varRefreshCmd": "cat(var_dic_list()) "
    }
   },
   "types_to_exclude": [
    "module",
    "function",
    "builtin_function_or_method",
    "instance",
    "_Feature"
   ],
   "window_display": false
  }
 },
 "nbformat": 4,
 "nbformat_minor": 5
}
